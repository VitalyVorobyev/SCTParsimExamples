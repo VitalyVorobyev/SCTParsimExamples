{
 "cells": [
  {
   "cell_type": "code",
   "execution_count": 1,
   "id": "283bc344",
   "metadata": {},
   "outputs": [],
   "source": [
    "import numpy as np\n",
    "import pandas as pd\n",
    "import matplotlib.pyplot as plt"
   ]
  },
  {
   "cell_type": "code",
   "execution_count": 2,
   "id": "41c78e01",
   "metadata": {},
   "outputs": [],
   "source": [
    "import glob"
   ]
  },
  {
   "cell_type": "code",
   "execution_count": 3,
   "id": "985d8a1b",
   "metadata": {},
   "outputs": [
    {
     "data": {
      "text/plain": [
       "'./csv/tup.csv'"
      ]
     },
     "execution_count": 3,
     "metadata": {},
     "output_type": "execute_result"
    }
   ],
   "source": [
    "# files = glob.glob('./hdf/*.hdf')\n",
    "files = glob.glob('./csv/*.csv')\n",
    "files[2]"
   ]
  },
  {
   "cell_type": "code",
   "execution_count": 4,
   "id": "f91645b2",
   "metadata": {},
   "outputs": [
    {
     "data": {
      "text/html": [
       "<div>\n",
       "<style scoped>\n",
       "    .dataframe tbody tr th:only-of-type {\n",
       "        vertical-align: middle;\n",
       "    }\n",
       "\n",
       "    .dataframe tbody tr th {\n",
       "        vertical-align: top;\n",
       "    }\n",
       "\n",
       "    .dataframe thead th {\n",
       "        text-align: right;\n",
       "    }\n",
       "</style>\n",
       "<table border=\"1\" class=\"dataframe\">\n",
       "  <thead>\n",
       "    <tr style=\"text-align: right;\">\n",
       "      <th></th>\n",
       "      <th>Unnamed: 0</th>\n",
       "      <th>evtn</th>\n",
       "      <th>D0_K_p</th>\n",
       "      <th>D0_pi_p</th>\n",
       "      <th>D0_K_pt</th>\n",
       "      <th>D0_pi_pt</th>\n",
       "      <th>D0_K_costh</th>\n",
       "      <th>D0_pi_costh</th>\n",
       "      <th>D0_K_dedx</th>\n",
       "      <th>D0_pi_dedx</th>\n",
       "      <th>...</th>\n",
       "      <th>D0_pi_px_mc</th>\n",
       "      <th>D0_K_py_mc</th>\n",
       "      <th>D0_pi_py_mc</th>\n",
       "      <th>D0_K_pz_mc</th>\n",
       "      <th>D0_pi_pz_mc</th>\n",
       "      <th>D0_K_pdgid_mc</th>\n",
       "      <th>D0_pi_pdgid_mc</th>\n",
       "      <th>M</th>\n",
       "      <th>p</th>\n",
       "      <th>pt</th>\n",
       "    </tr>\n",
       "  </thead>\n",
       "  <tbody>\n",
       "    <tr>\n",
       "      <th>0</th>\n",
       "      <td>0</td>\n",
       "      <td>0</td>\n",
       "      <td>1.000537</td>\n",
       "      <td>0.759469</td>\n",
       "      <td>0.971618</td>\n",
       "      <td>0.730433</td>\n",
       "      <td>0.238686</td>\n",
       "      <td>-0.273867</td>\n",
       "      <td>471.872192</td>\n",
       "      <td>501.923035</td>\n",
       "      <td>...</td>\n",
       "      <td>-0.316860</td>\n",
       "      <td>0.935978</td>\n",
       "      <td>-0.657984</td>\n",
       "      <td>0.236210</td>\n",
       "      <td>-0.207945</td>\n",
       "      <td>-321.0</td>\n",
       "      <td>211.0</td>\n",
       "      <td>1.866122</td>\n",
       "      <td>0.285859</td>\n",
       "      <td>0.284192</td>\n",
       "    </tr>\n",
       "    <tr>\n",
       "      <th>1</th>\n",
       "      <td>1</td>\n",
       "      <td>0</td>\n",
       "      <td>0.759469</td>\n",
       "      <td>1.000537</td>\n",
       "      <td>0.730433</td>\n",
       "      <td>0.971618</td>\n",
       "      <td>-0.273867</td>\n",
       "      <td>0.238686</td>\n",
       "      <td>501.923035</td>\n",
       "      <td>471.872192</td>\n",
       "      <td>...</td>\n",
       "      <td>0.258061</td>\n",
       "      <td>-0.657984</td>\n",
       "      <td>0.935978</td>\n",
       "      <td>-0.207945</td>\n",
       "      <td>0.236210</td>\n",
       "      <td>211.0</td>\n",
       "      <td>-321.0</td>\n",
       "      <td>1.894601</td>\n",
       "      <td>0.285859</td>\n",
       "      <td>0.284192</td>\n",
       "    </tr>\n",
       "    <tr>\n",
       "      <th>2</th>\n",
       "      <td>2</td>\n",
       "      <td>1</td>\n",
       "      <td>0.970711</td>\n",
       "      <td>0.786824</td>\n",
       "      <td>0.766878</td>\n",
       "      <td>0.628596</td>\n",
       "      <td>-0.613085</td>\n",
       "      <td>0.601460</td>\n",
       "      <td>502.086517</td>\n",
       "      <td>557.201904</td>\n",
       "      <td>...</td>\n",
       "      <td>-0.413982</td>\n",
       "      <td>0.389501</td>\n",
       "      <td>-0.475053</td>\n",
       "      <td>-0.592966</td>\n",
       "      <td>0.472755</td>\n",
       "      <td>-321.0</td>\n",
       "      <td>211.0</td>\n",
       "      <td>1.866150</td>\n",
       "      <td>0.287341</td>\n",
       "      <td>0.260209</td>\n",
       "    </tr>\n",
       "    <tr>\n",
       "      <th>3</th>\n",
       "      <td>3</td>\n",
       "      <td>1</td>\n",
       "      <td>0.786824</td>\n",
       "      <td>0.970711</td>\n",
       "      <td>0.628596</td>\n",
       "      <td>0.766878</td>\n",
       "      <td>0.601460</td>\n",
       "      <td>-0.613085</td>\n",
       "      <td>557.201904</td>\n",
       "      <td>502.086517</td>\n",
       "      <td>...</td>\n",
       "      <td>0.658455</td>\n",
       "      <td>-0.475053</td>\n",
       "      <td>0.389501</td>\n",
       "      <td>0.472755</td>\n",
       "      <td>-0.592966</td>\n",
       "      <td>211.0</td>\n",
       "      <td>-321.0</td>\n",
       "      <td>1.887826</td>\n",
       "      <td>0.287341</td>\n",
       "      <td>0.260209</td>\n",
       "    </tr>\n",
       "    <tr>\n",
       "      <th>4</th>\n",
       "      <td>4</td>\n",
       "      <td>2</td>\n",
       "      <td>0.892681</td>\n",
       "      <td>0.848831</td>\n",
       "      <td>0.891397</td>\n",
       "      <td>0.843184</td>\n",
       "      <td>-0.053606</td>\n",
       "      <td>-0.115155</td>\n",
       "      <td>477.562408</td>\n",
       "      <td>608.244385</td>\n",
       "      <td>...</td>\n",
       "      <td>0.614984</td>\n",
       "      <td>0.407948</td>\n",
       "      <td>-0.575371</td>\n",
       "      <td>-0.048010</td>\n",
       "      <td>-0.097460</td>\n",
       "      <td>-211.0</td>\n",
       "      <td>321.0</td>\n",
       "      <td>1.858415</td>\n",
       "      <td>0.286211</td>\n",
       "      <td>0.246409</td>\n",
       "    </tr>\n",
       "  </tbody>\n",
       "</table>\n",
       "<p>5 rows × 31 columns</p>\n",
       "</div>"
      ],
      "text/plain": [
       "   Unnamed: 0  evtn    D0_K_p   D0_pi_p   D0_K_pt  D0_pi_pt  D0_K_costh  \\\n",
       "0           0     0  1.000537  0.759469  0.971618  0.730433    0.238686   \n",
       "1           1     0  0.759469  1.000537  0.730433  0.971618   -0.273867   \n",
       "2           2     1  0.970711  0.786824  0.766878  0.628596   -0.613085   \n",
       "3           3     1  0.786824  0.970711  0.628596  0.766878    0.601460   \n",
       "4           4     2  0.892681  0.848831  0.891397  0.843184   -0.053606   \n",
       "\n",
       "   D0_pi_costh   D0_K_dedx  D0_pi_dedx  ...  D0_pi_px_mc  D0_K_py_mc  \\\n",
       "0    -0.273867  471.872192  501.923035  ...    -0.316860    0.935978   \n",
       "1     0.238686  501.923035  471.872192  ...     0.258061   -0.657984   \n",
       "2     0.601460  502.086517  557.201904  ...    -0.413982    0.389501   \n",
       "3    -0.613085  557.201904  502.086517  ...     0.658455   -0.475053   \n",
       "4    -0.115155  477.562408  608.244385  ...     0.614984    0.407948   \n",
       "\n",
       "   D0_pi_py_mc  D0_K_pz_mc  D0_pi_pz_mc  D0_K_pdgid_mc  D0_pi_pdgid_mc  \\\n",
       "0    -0.657984    0.236210    -0.207945         -321.0           211.0   \n",
       "1     0.935978   -0.207945     0.236210          211.0          -321.0   \n",
       "2    -0.475053   -0.592966     0.472755         -321.0           211.0   \n",
       "3     0.389501    0.472755    -0.592966          211.0          -321.0   \n",
       "4    -0.575371   -0.048010    -0.097460         -211.0           321.0   \n",
       "\n",
       "          M         p        pt  \n",
       "0  1.866122  0.285859  0.284192  \n",
       "1  1.894601  0.285859  0.284192  \n",
       "2  1.866150  0.287341  0.260209  \n",
       "3  1.887826  0.287341  0.260209  \n",
       "4  1.858415  0.286211  0.246409  \n",
       "\n",
       "[5 rows x 31 columns]"
      ]
     },
     "execution_count": 4,
     "metadata": {},
     "output_type": "execute_result"
    }
   ],
   "source": [
    "df = pd.read_csv(files[2])\n",
    "df.head()"
   ]
  },
  {
   "cell_type": "code",
   "execution_count": 5,
   "id": "e5cb3d57",
   "metadata": {
    "scrolled": true
   },
   "outputs": [
    {
     "data": {
      "text/html": [
       "<div>\n",
       "<style scoped>\n",
       "    .dataframe tbody tr th:only-of-type {\n",
       "        vertical-align: middle;\n",
       "    }\n",
       "\n",
       "    .dataframe tbody tr th {\n",
       "        vertical-align: top;\n",
       "    }\n",
       "\n",
       "    .dataframe thead th {\n",
       "        text-align: right;\n",
       "    }\n",
       "</style>\n",
       "<table border=\"1\" class=\"dataframe\">\n",
       "  <thead>\n",
       "    <tr style=\"text-align: right;\">\n",
       "      <th></th>\n",
       "      <th>Unnamed: 0</th>\n",
       "      <th>evtn</th>\n",
       "      <th>D0_K_p</th>\n",
       "      <th>D0_pi_p</th>\n",
       "      <th>D0_K_pt</th>\n",
       "      <th>D0_pi_pt</th>\n",
       "      <th>D0_K_costh</th>\n",
       "      <th>D0_pi_costh</th>\n",
       "      <th>D0_K_dedx</th>\n",
       "      <th>D0_pi_dedx</th>\n",
       "      <th>...</th>\n",
       "      <th>D0_pi_px_mc</th>\n",
       "      <th>D0_K_py_mc</th>\n",
       "      <th>D0_pi_py_mc</th>\n",
       "      <th>D0_K_pz_mc</th>\n",
       "      <th>D0_pi_pz_mc</th>\n",
       "      <th>D0_K_pdgid_mc</th>\n",
       "      <th>D0_pi_pdgid_mc</th>\n",
       "      <th>M</th>\n",
       "      <th>p</th>\n",
       "      <th>pt</th>\n",
       "    </tr>\n",
       "  </thead>\n",
       "  <tbody>\n",
       "    <tr>\n",
       "      <th>count</th>\n",
       "      <td>73195.000000</td>\n",
       "      <td>73195.000000</td>\n",
       "      <td>73195.000000</td>\n",
       "      <td>73195.000000</td>\n",
       "      <td>73195.000000</td>\n",
       "      <td>73195.000000</td>\n",
       "      <td>73195.000000</td>\n",
       "      <td>73195.000000</td>\n",
       "      <td>73195.000000</td>\n",
       "      <td>73195.000000</td>\n",
       "      <td>...</td>\n",
       "      <td>73195.000000</td>\n",
       "      <td>73195.000000</td>\n",
       "      <td>73195.000000</td>\n",
       "      <td>73195.000000</td>\n",
       "      <td>73195.000000</td>\n",
       "      <td>73195.000000</td>\n",
       "      <td>73195.000000</td>\n",
       "      <td>73195.000000</td>\n",
       "      <td>73195.000000</td>\n",
       "      <td>73195.000000</td>\n",
       "    </tr>\n",
       "    <tr>\n",
       "      <th>mean</th>\n",
       "      <td>36597.000000</td>\n",
       "      <td>17567.429579</td>\n",
       "      <td>0.872500</td>\n",
       "      <td>0.872194</td>\n",
       "      <td>0.768786</td>\n",
       "      <td>0.768501</td>\n",
       "      <td>0.004470</td>\n",
       "      <td>0.004713</td>\n",
       "      <td>527.659261</td>\n",
       "      <td>527.436411</td>\n",
       "      <td>...</td>\n",
       "      <td>-0.000685</td>\n",
       "      <td>-0.000259</td>\n",
       "      <td>-0.000103</td>\n",
       "      <td>0.002468</td>\n",
       "      <td>0.002691</td>\n",
       "      <td>-0.066603</td>\n",
       "      <td>0.012993</td>\n",
       "      <td>1.863561</td>\n",
       "      <td>0.291092</td>\n",
       "      <td>0.256306</td>\n",
       "    </tr>\n",
       "    <tr>\n",
       "      <th>std</th>\n",
       "      <td>21129.720814</td>\n",
       "      <td>10157.480045</td>\n",
       "      <td>0.085409</td>\n",
       "      <td>0.085035</td>\n",
       "      <td>0.133433</td>\n",
       "      <td>0.133188</td>\n",
       "      <td>0.459005</td>\n",
       "      <td>0.458994</td>\n",
       "      <td>59.056461</td>\n",
       "      <td>58.982441</td>\n",
       "      <td>...</td>\n",
       "      <td>0.551926</td>\n",
       "      <td>0.551280</td>\n",
       "      <td>0.551114</td>\n",
       "      <td>0.399663</td>\n",
       "      <td>0.399547</td>\n",
       "      <td>271.804873</td>\n",
       "      <td>271.421196</td>\n",
       "      <td>0.015867</td>\n",
       "      <td>0.049272</td>\n",
       "      <td>0.055892</td>\n",
       "    </tr>\n",
       "    <tr>\n",
       "      <th>min</th>\n",
       "      <td>0.000000</td>\n",
       "      <td>0.000000</td>\n",
       "      <td>0.651582</td>\n",
       "      <td>0.681289</td>\n",
       "      <td>0.237988</td>\n",
       "      <td>0.237988</td>\n",
       "      <td>-0.784923</td>\n",
       "      <td>-0.784923</td>\n",
       "      <td>303.007629</td>\n",
       "      <td>303.007629</td>\n",
       "      <td>...</td>\n",
       "      <td>-1.021236</td>\n",
       "      <td>-1.020970</td>\n",
       "      <td>-1.020970</td>\n",
       "      <td>-0.793016</td>\n",
       "      <td>-0.793016</td>\n",
       "      <td>-321.000000</td>\n",
       "      <td>-321.000000</td>\n",
       "      <td>1.800043</td>\n",
       "      <td>0.034887</td>\n",
       "      <td>0.017199</td>\n",
       "    </tr>\n",
       "    <tr>\n",
       "      <th>25%</th>\n",
       "      <td>18298.500000</td>\n",
       "      <td>8750.000000</td>\n",
       "      <td>0.797704</td>\n",
       "      <td>0.797564</td>\n",
       "      <td>0.684062</td>\n",
       "      <td>0.684197</td>\n",
       "      <td>-0.391682</td>\n",
       "      <td>-0.391347</td>\n",
       "      <td>485.660950</td>\n",
       "      <td>485.485474</td>\n",
       "      <td>...</td>\n",
       "      <td>-0.514667</td>\n",
       "      <td>-0.512795</td>\n",
       "      <td>-0.511986</td>\n",
       "      <td>-0.339743</td>\n",
       "      <td>-0.339519</td>\n",
       "      <td>-321.000000</td>\n",
       "      <td>-211.000000</td>\n",
       "      <td>1.859013</td>\n",
       "      <td>0.283943</td>\n",
       "      <td>0.237834</td>\n",
       "    </tr>\n",
       "    <tr>\n",
       "      <th>50%</th>\n",
       "      <td>36597.000000</td>\n",
       "      <td>17573.000000</td>\n",
       "      <td>0.873158</td>\n",
       "      <td>0.873053</td>\n",
       "      <td>0.771681</td>\n",
       "      <td>0.771488</td>\n",
       "      <td>-0.000658</td>\n",
       "      <td>-0.000513</td>\n",
       "      <td>521.004639</td>\n",
       "      <td>520.828369</td>\n",
       "      <td>...</td>\n",
       "      <td>-0.001112</td>\n",
       "      <td>0.000977</td>\n",
       "      <td>0.001281</td>\n",
       "      <td>-0.000449</td>\n",
       "      <td>-0.000317</td>\n",
       "      <td>-11.000000</td>\n",
       "      <td>13.000000</td>\n",
       "      <td>1.864627</td>\n",
       "      <td>0.285599</td>\n",
       "      <td>0.268375</td>\n",
       "    </tr>\n",
       "    <tr>\n",
       "      <th>75%</th>\n",
       "      <td>54895.500000</td>\n",
       "      <td>26358.000000</td>\n",
       "      <td>0.947917</td>\n",
       "      <td>0.947329</td>\n",
       "      <td>0.871543</td>\n",
       "      <td>0.871121</td>\n",
       "      <td>0.391623</td>\n",
       "      <td>0.392091</td>\n",
       "      <td>563.922302</td>\n",
       "      <td>563.652466</td>\n",
       "      <td>...</td>\n",
       "      <td>0.512851</td>\n",
       "      <td>0.513797</td>\n",
       "      <td>0.513577</td>\n",
       "      <td>0.339360</td>\n",
       "      <td>0.339607</td>\n",
       "      <td>321.000000</td>\n",
       "      <td>211.000000</td>\n",
       "      <td>1.868996</td>\n",
       "      <td>0.287318</td>\n",
       "      <td>0.281386</td>\n",
       "    </tr>\n",
       "    <tr>\n",
       "      <th>max</th>\n",
       "      <td>73194.000000</td>\n",
       "      <td>35160.000000</td>\n",
       "      <td>1.044777</td>\n",
       "      <td>1.066842</td>\n",
       "      <td>1.027626</td>\n",
       "      <td>1.023671</td>\n",
       "      <td>0.962308</td>\n",
       "      <td>0.962308</td>\n",
       "      <td>786.524414</td>\n",
       "      <td>786.524414</td>\n",
       "      <td>...</td>\n",
       "      <td>1.021390</td>\n",
       "      <td>1.021800</td>\n",
       "      <td>1.021800</td>\n",
       "      <td>0.929691</td>\n",
       "      <td>0.929691</td>\n",
       "      <td>321.000000</td>\n",
       "      <td>321.000000</td>\n",
       "      <td>1.899993</td>\n",
       "      <td>1.159319</td>\n",
       "      <td>1.009378</td>\n",
       "    </tr>\n",
       "  </tbody>\n",
       "</table>\n",
       "<p>8 rows × 31 columns</p>\n",
       "</div>"
      ],
      "text/plain": [
       "         Unnamed: 0          evtn        D0_K_p       D0_pi_p       D0_K_pt  \\\n",
       "count  73195.000000  73195.000000  73195.000000  73195.000000  73195.000000   \n",
       "mean   36597.000000  17567.429579      0.872500      0.872194      0.768786   \n",
       "std    21129.720814  10157.480045      0.085409      0.085035      0.133433   \n",
       "min        0.000000      0.000000      0.651582      0.681289      0.237988   \n",
       "25%    18298.500000   8750.000000      0.797704      0.797564      0.684062   \n",
       "50%    36597.000000  17573.000000      0.873158      0.873053      0.771681   \n",
       "75%    54895.500000  26358.000000      0.947917      0.947329      0.871543   \n",
       "max    73194.000000  35160.000000      1.044777      1.066842      1.027626   \n",
       "\n",
       "           D0_pi_pt    D0_K_costh   D0_pi_costh     D0_K_dedx    D0_pi_dedx  \\\n",
       "count  73195.000000  73195.000000  73195.000000  73195.000000  73195.000000   \n",
       "mean       0.768501      0.004470      0.004713    527.659261    527.436411   \n",
       "std        0.133188      0.459005      0.458994     59.056461     58.982441   \n",
       "min        0.237988     -0.784923     -0.784923    303.007629    303.007629   \n",
       "25%        0.684197     -0.391682     -0.391347    485.660950    485.485474   \n",
       "50%        0.771488     -0.000658     -0.000513    521.004639    520.828369   \n",
       "75%        0.871121      0.391623      0.392091    563.922302    563.652466   \n",
       "max        1.023671      0.962308      0.962308    786.524414    786.524414   \n",
       "\n",
       "       ...   D0_pi_px_mc    D0_K_py_mc   D0_pi_py_mc    D0_K_pz_mc  \\\n",
       "count  ...  73195.000000  73195.000000  73195.000000  73195.000000   \n",
       "mean   ...     -0.000685     -0.000259     -0.000103      0.002468   \n",
       "std    ...      0.551926      0.551280      0.551114      0.399663   \n",
       "min    ...     -1.021236     -1.020970     -1.020970     -0.793016   \n",
       "25%    ...     -0.514667     -0.512795     -0.511986     -0.339743   \n",
       "50%    ...     -0.001112      0.000977      0.001281     -0.000449   \n",
       "75%    ...      0.512851      0.513797      0.513577      0.339360   \n",
       "max    ...      1.021390      1.021800      1.021800      0.929691   \n",
       "\n",
       "        D0_pi_pz_mc  D0_K_pdgid_mc  D0_pi_pdgid_mc             M  \\\n",
       "count  73195.000000   73195.000000    73195.000000  73195.000000   \n",
       "mean       0.002691      -0.066603        0.012993      1.863561   \n",
       "std        0.399547     271.804873      271.421196      0.015867   \n",
       "min       -0.793016    -321.000000     -321.000000      1.800043   \n",
       "25%       -0.339519    -321.000000     -211.000000      1.859013   \n",
       "50%       -0.000317     -11.000000       13.000000      1.864627   \n",
       "75%        0.339607     321.000000      211.000000      1.868996   \n",
       "max        0.929691     321.000000      321.000000      1.899993   \n",
       "\n",
       "                  p            pt  \n",
       "count  73195.000000  73195.000000  \n",
       "mean       0.291092      0.256306  \n",
       "std        0.049272      0.055892  \n",
       "min        0.034887      0.017199  \n",
       "25%        0.283943      0.237834  \n",
       "50%        0.285599      0.268375  \n",
       "75%        0.287318      0.281386  \n",
       "max        1.159319      1.009378  \n",
       "\n",
       "[8 rows x 31 columns]"
      ]
     },
     "execution_count": 5,
     "metadata": {},
     "output_type": "execute_result"
    }
   ],
   "source": [
    "df.describe()"
   ]
  },
  {
   "cell_type": "code",
   "execution_count": 6,
   "id": "5de20e52",
   "metadata": {},
   "outputs": [],
   "source": [
    "df = df[df.M > 1.84]"
   ]
  },
  {
   "cell_type": "code",
   "execution_count": 7,
   "id": "dfb10141",
   "metadata": {},
   "outputs": [
    {
     "data": {
      "text/plain": [
       "array([[<AxesSubplot:title={'center':'D0_K_pdgid_mc'}>]], dtype=object)"
      ]
     },
     "execution_count": 7,
     "metadata": {},
     "output_type": "execute_result"
    },
    {
     "data": {
      "image/png": "[encoded data removed]",
      "text/plain": [
       "<Figure size 432x288 with 1 Axes>"
      ]
     },
     "metadata": {
      "needs_background": "light"
     },
     "output_type": "display_data"
    }
   ],
   "source": [
    "df.hist('D0_K_pdgid_mc')"
   ]
  },
  {
   "cell_type": "code",
   "execution_count": 8,
   "id": "01e90638",
   "metadata": {},
   "outputs": [],
   "source": [
    "df_kpid = df[np.abs(df.D0_K_pdgid_mc) == 321]"
   ]
  },
  {
   "cell_type": "code",
   "execution_count": 9,
   "id": "1c76ef33",
   "metadata": {},
   "outputs": [
    {
     "data": {
      "image/png": "[encoded data removed]",
      "text/plain": [
       "<Figure size 720x432 with 1 Axes>"
      ]
     },
     "metadata": {
      "needs_background": "light"
     },
     "output_type": "display_data"
    }
   ],
   "source": [
    "fig, ax = plt.subplots(figsize=(10, 6))\n",
    "df_kpid.hist('M', bins=100, ax=ax);"
   ]
  },
  {
   "cell_type": "code",
   "execution_count": 10,
   "id": "4bb99e0e",
   "metadata": {},
   "outputs": [],
   "source": [
    "df_missid = df[np.abs(df.D0_K_pdgid_mc) != 321]"
   ]
  },
  {
   "cell_type": "code",
   "execution_count": 11,
   "id": "f0636578",
   "metadata": {},
   "outputs": [
    {
     "data": {
      "image/png": "[encoded data removed]",
      "text/plain": [
       "<Figure size 720x432 with 1 Axes>"
      ]
     },
     "metadata": {
      "needs_background": "light"
     },
     "output_type": "display_data"
    }
   ],
   "source": [
    "fig, ax = plt.subplots(figsize=(10, 6))\n",
    "df_missid.hist('M', bins=100, ax=ax);"
   ]
  },
  {
   "cell_type": "code",
   "execution_count": 12,
   "id": "bab5f57f",
   "metadata": {},
   "outputs": [
    {
     "data": {
      "text/plain": [
       "Index(['Unnamed: 0', 'evtn', 'D0_K_p', 'D0_pi_p', 'D0_K_pt', 'D0_pi_pt',\n",
       "       'D0_K_costh', 'D0_pi_costh', 'D0_K_dedx', 'D0_pi_dedx', 'D0_K_pidkpi',\n",
       "       'D0_pi_pidkpi', 'D0_K_pidkp', 'D0_pi_pidkp', 'D0_K_pidmupi',\n",
       "       'D0_pi_pidmupi', 'D0_K_pide', 'D0_pi_pide', 'D0_K_charge',\n",
       "       'D0_pi_charge', 'D0_K_px_mc', 'D0_pi_px_mc', 'D0_K_py_mc',\n",
       "       'D0_pi_py_mc', 'D0_K_pz_mc', 'D0_pi_pz_mc', 'D0_K_pdgid_mc',\n",
       "       'D0_pi_pdgid_mc', 'M', 'p', 'pt'],\n",
       "      dtype='object')"
      ]
     },
     "execution_count": 12,
     "metadata": {},
     "output_type": "execute_result"
    }
   ],
   "source": [
    "df.columns"
   ]
  },
  {
   "cell_type": "code",
   "execution_count": 13,
   "id": "5d71ab38",
   "metadata": {},
   "outputs": [],
   "source": [
    "# def beam_constrained_mass(ebeam):\n",
    "#     def function(data):\n",
    "#         energy = data.M**2 + data.px**2\n",
    "#         return np.sqrt()\n",
    "    "
   ]
  },
  {
   "cell_type": "code",
   "execution_count": 14,
   "id": "8db8238a",
   "metadata": {},
   "outputs": [],
   "source": [
    "from pdflib import exp_gauss_exp\n",
    "from llhlib import loglh_maker"
   ]
  },
  {
   "cell_type": "code",
   "execution_count": 15,
   "id": "32f662e2",
   "metadata": {},
   "outputs": [],
   "source": [
    "from scipy.optimize import minimize"
   ]
  },
  {
   "cell_type": "code",
   "execution_count": 16,
   "id": "c028e505",
   "metadata": {},
   "outputs": [],
   "source": [
    "fcn = loglh_maker(exp_gauss_exp, df.M)"
   ]
  },
  {
   "cell_type": "code",
   "execution_count": 17,
   "id": "dbbbbcee",
   "metadata": {},
   "outputs": [
    {
     "name": "stderr",
     "output_type": "stream",
     "text": [
      "/home/vitaly/work/SctSW/Parsim/llhlib.py:9: RuntimeWarning: divide by zero encountered in log\n",
      "  return -2. * np.sum(np.log(fcn(data, *pars))) + 2. * data.size * np.log(norm[0])\n",
      "/home/vitaly/work/SctSW/Parsim/llhlib.py:9: RuntimeWarning: invalid value encountered in double_scalars\n",
      "  return -2. * np.sum(np.log(fcn(data, *pars))) + 2. * data.size * np.log(norm[0])\n",
      "/home/vitaly/miniconda3/envs/nsu/lib/python3.9/site-packages/pandas/core/arraylike.py:364: RuntimeWarning: overflow encountered in exp\n",
      "  result = getattr(ufunc, method)(*inputs, **kwargs)\n",
      "/home/vitaly/miniconda3/envs/nsu/lib/python3.9/site-packages/scipy/optimize/_numdiff.py:557: RuntimeWarning: invalid value encountered in subtract\n",
      "  df = fun(x) - f0\n",
      "/home/vitaly/work/SctSW/Parsim/pdflib.py:36: RuntimeWarning: overflow encountered in exp\n",
      "  return np.exp(0.5 * kl**2 + kl * xi)\n",
      "/home/vitaly/miniconda3/envs/nsu/lib/python3.9/site-packages/pandas/core/arraylike.py:364: RuntimeWarning: overflow encountered in exp\n",
      "  result = getattr(ufunc, method)(*inputs, **kwargs)\n",
      "/home/vitaly/miniconda3/envs/nsu/lib/python3.9/site-packages/scipy/optimize/_numdiff.py:557: RuntimeWarning: invalid value encountered in subtract\n",
      "  df = fun(x) - f0\n",
      "/home/vitaly/work/SctSW/Parsim/pdflib.py:36: RuntimeWarning: overflow encountered in exp\n",
      "  return np.exp(0.5 * kl**2 + kl * xi)\n",
      "/home/vitaly/work/SctSW/Parsim/llhlib.py:9: RuntimeWarning: invalid value encountered in double_scalars\n",
      "  return -2. * np.sum(np.log(fcn(data, *pars))) + 2. * data.size * np.log(norm[0])\n",
      "/home/vitaly/miniconda3/envs/nsu/lib/python3.9/site-packages/pandas/core/arraylike.py:364: RuntimeWarning: overflow encountered in exp\n",
      "  result = getattr(ufunc, method)(*inputs, **kwargs)\n",
      "/home/vitaly/miniconda3/envs/nsu/lib/python3.9/site-packages/scipy/optimize/_numdiff.py:557: RuntimeWarning: invalid value encountered in subtract\n",
      "  df = fun(x) - f0\n",
      "/home/vitaly/work/SctSW/Parsim/pdflib.py:36: RuntimeWarning: overflow encountered in exp\n",
      "  return np.exp(0.5 * kl**2 + kl * xi)\n",
      "/home/vitaly/work/SctSW/Parsim/llhlib.py:9: RuntimeWarning: invalid value encountered in double_scalars\n",
      "  return -2. * np.sum(np.log(fcn(data, *pars))) + 2. * data.size * np.log(norm[0])\n",
      "/home/vitaly/work/SctSW/Parsim/pdflib.py:36: RuntimeWarning: overflow encountered in exp\n",
      "  return np.exp(0.5 * kl**2 + kl * xi)\n",
      "/home/vitaly/miniconda3/envs/nsu/lib/python3.9/site-packages/pandas/core/arraylike.py:364: RuntimeWarning: overflow encountered in exp\n",
      "  result = getattr(ufunc, method)(*inputs, **kwargs)\n",
      "/home/vitaly/work/SctSW/Parsim/llhlib.py:9: RuntimeWarning: invalid value encountered in double_scalars\n",
      "  return -2. * np.sum(np.log(fcn(data, *pars))) + 2. * data.size * np.log(norm[0])\n"
     ]
    }
   ],
   "source": [
    "fitres = minimize(fcn, [1.865, 0.003, 1., 1.])"
   ]
  },
  {
   "cell_type": "code",
   "execution_count": 18,
   "id": "30c5899f",
   "metadata": {},
   "outputs": [
    {
     "data": {
      "text/plain": [
       "      fun: nan\n",
       " hess_inv: array([[ 3.07800198e+02, -7.42719487e+00, -6.51853574e+01,\n",
       "        -2.91252187e+02],\n",
       "       [-7.42719487e+00,  1.79240830e-01,  1.57426822e+00,\n",
       "         7.03908755e+00],\n",
       "       [-6.51853574e+01,  1.57426822e+00,  1.48366926e+01,\n",
       "         6.19051152e+01],\n",
       "       [-2.91252187e+02,  7.03908755e+00,  6.19051152e+01,\n",
       "         2.81192144e+02]])\n",
       "      jac: array([nan, nan, nan, nan])\n",
       "  message: 'Desired error not necessarily achieved due to precision loss.'\n",
       "     nfev: 1135\n",
       "      nit: 8\n",
       "     njev: 227\n",
       "   status: 2\n",
       "  success: False\n",
       "        x: array([ 409775.1254231 ,   -9895.20277454,  -87317.63281476,\n",
       "       -391783.65934417])"
      ]
     },
     "execution_count": 18,
     "metadata": {},
     "output_type": "execute_result"
    }
   ],
   "source": [
    "fitres"
   ]
  },
  {
   "cell_type": "code",
   "execution_count": 69,
   "id": "033bfcfa",
   "metadata": {},
   "outputs": [
    {
     "data": {
      "image/png": "[encoded data removed]",
      "text/plain": [
       "<Figure size 720x432 with 1 Axes>"
      ]
     },
     "metadata": {
      "needs_background": "light"
     },
     "output_type": "display_data"
    }
   ],
   "source": [
    "fig, ax = plt.subplots(figsize=(10, 6))\n",
    "pars = [1.86442511e+00, 1.09720274e-03, 1.34025083e-01, 1.00000000e-01]\n",
    "df_kpid.hist('M', bins=100, ax=ax, density=True)\n",
    "x = np.linspace(1.84, 1.90, 250)\n",
    "# binsize = (1.90 - 1.84) / 100\n",
    "gaus_norm = 1 / (np.sqrt(2 * np.pi) * pars[1])\n",
    "# norm = df_kpid.size * binsize / gaus_norm\n",
    "y = exp_gauss_exp(x, *pars) * gaus_norm\n",
    "ax.plot(x, y);"
   ]
  },
  {
   "cell_type": "code",
   "execution_count": 47,
   "id": "dc4e5dfc",
   "metadata": {},
   "outputs": [],
   "source": [
    "from scipy.integrate import quad"
   ]
  },
  {
   "cell_type": "code",
   "execution_count": 71,
   "id": "a5e63b3f",
   "metadata": {},
   "outputs": [],
   "source": [
    "def llh(pars):\n",
    "    norm = quad(lambda x: exp_gauss_exp(x, *pars), 1.84, 1.90)[0]\n",
    "#     norm = 1 / (np.sqrt(2 * np.pi) * pars[1])\n",
    "    return -2. * np.sum(np.log(exp_gauss_exp(df_kpid.M, *pars))) + 2. * df_kpid.size * np.log(norm)"
   ]
  },
  {
   "cell_type": "code",
   "execution_count": 74,
   "id": "b847b547",
   "metadata": {},
   "outputs": [],
   "source": [
    "bounds = [(1.864, 1.866), (0.001, 0.005), (0.001, 10), (0.001, 10)]\n",
    "fitres = minimize(fcn, [1.865, 0.003, 1., 1.], bounds=bounds)"
   ]
  },
  {
   "cell_type": "code",
   "execution_count": 75,
   "id": "ac914148",
   "metadata": {},
   "outputs": [
    {
     "data": {
      "text/plain": [
       "      fun: -415013.2816251047\n",
       " hess_inv: <4x4 LbfgsInvHessProduct with dtype=float64>\n",
       "      jac: array([  9543.62336758, 148445.9324283 , -61477.58107143,  60541.18278829])\n",
       "  message: 'CONVERGENCE: REL_REDUCTION_OF_F_<=_FACTR*EPSMCH'\n",
       "     nfev: 95\n",
       "      nit: 14\n",
       "     njev: 19\n",
       "   status: 0\n",
       "  success: True\n",
       "        x: array([1.86497305e+00, 1.25454484e-03, 1.25644014e-01, 1.24941542e-01])"
      ]
     },
     "execution_count": 75,
     "metadata": {},
     "output_type": "execute_result"
    }
   ],
   "source": [
    "fitres"
   ]
  },
  {
   "cell_type": "code",
   "execution_count": 54,
   "id": "9d3945b3",
   "metadata": {},
   "outputs": [],
   "source": [
    "import iminuit"
   ]
  },
  {
   "cell_type": "code",
   "execution_count": 63,
   "id": "66b72fec",
   "metadata": {},
   "outputs": [
    {
     "name": "stderr",
     "output_type": "stream",
     "text": [
      "<ipython-input-63-d832057c7b22>:2: IMinuitWarning: errordef not set, using 1 (appropriate for least-squares)\n",
      "  fitres = mnt.migrad()\n"
     ]
    },
    {
     "name": "stdout",
     "output_type": "stream",
     "text": [
      "E VariableMetricBuilder Initial matrix not pos.def.\n"
     ]
    }
   ],
   "source": [
    "mnt = iminuit.Minuit(llh, [1.865, 0.003, 1., 1.])\n",
    "fitres = mnt.migrad()"
   ]
  },
  {
   "cell_type": "code",
   "execution_count": 64,
   "id": "48870387",
   "metadata": {},
   "outputs": [
    {
     "data": {
      "text/html": [
       "<table>\n",
       "    <tr>\n",
       "        <th colspan=\"5\" style=\"text-align:center\" title=\"Minimizer\"> Migrad </th>\n",
       "    </tr>\n",
       "    <tr>\n",
       "        <td colspan=\"2\" style=\"text-align:left\" title=\"Minimum value of function\"> FCN = -inf </td>\n",
       "        <td colspan=\"3\" style=\"text-align:center\" title=\"No. of function evaluations in last call and total number\"> Nfcn = 506 </td>\n",
       "    </tr>\n",
       "    <tr>\n",
       "        <td colspan=\"2\" style=\"text-align:left\" title=\"Estimated distance to minimum and goal\"> EDM = nan (Goal: 0.0002) </td>\n",
       "        <td colspan=\"3\" style=\"text-align:center\" title=\"No. of gradient evaluations in last call and total number\">  </td>\n",
       "    </tr>\n",
       "    <tr>\n",
       "        <td colspan=\"2\" style=\"text-align:center;background-color:#92CCA6;color:black\"> Valid Minimum </td>\n",
       "        <td colspan=\"3\" style=\"text-align:center;background-color:#92CCA6;color:black\"> No Parameters at limit </td>\n",
       "    </tr>\n",
       "    <tr>\n",
       "        <td colspan=\"2\" style=\"text-align:center;background-color:#92CCA6;color:black\"> Below EDM threshold (goal x 10) </td>\n",
       "        <td colspan=\"3\" style=\"text-align:center;background-color:#92CCA6;color:black\"> Below call limit </td>\n",
       "    </tr>\n",
       "    <tr>\n",
       "        <td style=\"text-align:center;background-color:#92CCA6;color:black\"> Covariance </td>\n",
       "        <td style=\"text-align:center;background-color:#92CCA6;color:black\"> Hesse ok </td>\n",
       "        <td style=\"text-align:center;background-color:#FFF79A;color:black\" title=\"Is covariance matrix accurate?\"> APPROXIMATE </td>\n",
       "        <td style=\"text-align:center;background-color:#c15ef7;color:black\" title=\"Is covariance matrix positive definite?\"> NOT pos. def. </td>\n",
       "        <td style=\"text-align:center;background-color:#c15ef7;color:black\" title=\"Was positive definiteness enforced by Minuit?\"> FORCED </td>\n",
       "    </tr>\n",
       "</table><table>\n",
       "    <tr>\n",
       "        <td></td>\n",
       "        <th title=\"Variable name\"> Name </th>\n",
       "        <th title=\"Value of parameter\"> Value </th>\n",
       "        <th title=\"Hesse error\"> Hesse Error </th>\n",
       "        <th title=\"Minos lower error\"> Minos Error- </th>\n",
       "        <th title=\"Minos upper error\"> Minos Error+ </th>\n",
       "        <th title=\"Lower limit of the parameter\"> Limit- </th>\n",
       "        <th title=\"Upper limit of the parameter\"> Limit+ </th>\n",
       "        <th title=\"Is the parameter fixed in the fit\"> Fixed </th>\n",
       "    </tr>\n",
       "    <tr>\n",
       "        <th> 0 </th>\n",
       "        <td> x0 </td>\n",
       "        <td> 1.9811 </td>\n",
       "        <td> nan </td>\n",
       "        <td>  </td>\n",
       "        <td>  </td>\n",
       "        <td>  </td>\n",
       "        <td>  </td>\n",
       "        <td>  </td>\n",
       "    </tr>\n",
       "    <tr>\n",
       "        <th> 1 </th>\n",
       "        <td> x1 </td>\n",
       "        <td> 5.3598e-3 </td>\n",
       "        <td> nan </td>\n",
       "        <td>  </td>\n",
       "        <td>  </td>\n",
       "        <td>  </td>\n",
       "        <td>  </td>\n",
       "        <td>  </td>\n",
       "    </tr>\n",
       "    <tr>\n",
       "        <th> 2 </th>\n",
       "        <td> x2 </td>\n",
       "        <td> -1.9955e1 </td>\n",
       "        <td> nan </td>\n",
       "        <td>  </td>\n",
       "        <td>  </td>\n",
       "        <td>  </td>\n",
       "        <td>  </td>\n",
       "        <td>  </td>\n",
       "    </tr>\n",
       "    <tr>\n",
       "        <th> 3 </th>\n",
       "        <td> x3 </td>\n",
       "        <td> 1 </td>\n",
       "        <td> nan </td>\n",
       "        <td>  </td>\n",
       "        <td>  </td>\n",
       "        <td>  </td>\n",
       "        <td>  </td>\n",
       "        <td>  </td>\n",
       "    </tr>\n",
       "</table><table>\n",
       "    <tr>\n",
       "        <td></td>\n",
       "        <th> x0 </th>\n",
       "        <th> x1 </th>\n",
       "        <th> x2 </th>\n",
       "        <th> x3 </th>\n",
       "    </tr>\n",
       "    <tr>\n",
       "        <th> x0 </th>\n",
       "        <td> nan </td>\n",
       "        <td style=\"background-color:rgb(nan,nan,nan);color:black\"> nan </td>\n",
       "        <td style=\"background-color:rgb(nan,nan,nan);color:black\"> nan </td>\n",
       "        <td style=\"background-color:rgb(nan,nan,nan);color:black\"> nan </td>\n",
       "    </tr>\n",
       "    <tr>\n",
       "        <th> x1 </th>\n",
       "        <td style=\"background-color:rgb(nan,nan,nan);color:black\"> nan </td>\n",
       "        <td> nan </td>\n",
       "        <td style=\"background-color:rgb(nan,nan,nan);color:black\"> nan </td>\n",
       "        <td style=\"background-color:rgb(nan,nan,nan);color:black\"> nan </td>\n",
       "    </tr>\n",
       "    <tr>\n",
       "        <th> x2 </th>\n",
       "        <td style=\"background-color:rgb(nan,nan,nan);color:black\"> nan </td>\n",
       "        <td style=\"background-color:rgb(nan,nan,nan);color:black\"> nan </td>\n",
       "        <td> nan </td>\n",
       "        <td style=\"background-color:rgb(nan,nan,nan);color:black\"> nan </td>\n",
       "    </tr>\n",
       "    <tr>\n",
       "        <th> x3 </th>\n",
       "        <td style=\"background-color:rgb(nan,nan,nan);color:black\"> nan </td>\n",
       "        <td style=\"background-color:rgb(nan,nan,nan);color:black\"> nan </td>\n",
       "        <td style=\"background-color:rgb(nan,nan,nan);color:black\"> nan </td>\n",
       "        <td> nan </td>\n",
       "    </tr>\n",
       "</table>"
      ],
      "text/plain": [
       "┌─────────────────────────────────────────────────────────────────────────┐\n",
       "│                                Migrad                                   │\n",
       "├──────────────────────────────────┬──────────────────────────────────────┤\n",
       "│ FCN = -inf                       │              Nfcn = 506              │\n",
       "│ EDM = nan (Goal: 0.0002)         │                                      │\n",
       "├──────────────────────────────────┼──────────────────────────────────────┤\n",
       "│          Valid Minimum           │        No Parameters at limit        │\n",
       "├──────────────────────────────────┼──────────────────────────────────────┤\n",
       "│ Below EDM threshold (goal x 10)  │           Below call limit           │\n",
       "├───────────────┬──────────────────┼───────────┬─────────────┬────────────┤\n",
       "│  Covariance   │     Hesse ok     │APPROXIMATE│NOT pos. def.│   FORCED   │\n",
       "└───────────────┴──────────────────┴───────────┴─────────────┴────────────┘\n",
       "┌───┬──────┬───────────┬───────────┬────────────┬────────────┬─────────┬─────────┬───────┐\n",
       "│   │ Name │   Value   │ Hesse Err │ Minos Err- │ Minos Err+ │ Limit-  │ Limit+  │ Fixed │\n",
       "├───┼──────┼───────────┼───────────┼────────────┼────────────┼─────────┼─────────┼───────┤\n",
       "│ 0 │ x0   │  1.9811   │    nan    │            │            │         │         │       │\n",
       "│ 1 │ x1   │ 5.3598e-3 │    nan    │            │            │         │         │       │\n",
       "│ 2 │ x2   │ -1.9955e1 │    nan    │            │            │         │         │       │\n",
       "│ 3 │ x3   │     1     │    nan    │            │            │         │         │       │\n",
       "└───┴──────┴───────────┴───────────┴────────────┴────────────┴─────────┴─────────┴───────┘\n",
       "┌────┬─────────────────┐\n",
       "│    │  x0  x1  x2  x3 │\n",
       "├────┼─────────────────┤\n",
       "│ x0 │ nan nan nan nan │\n",
       "│ x1 │ nan nan nan nan │\n",
       "│ x2 │ nan nan nan nan │\n",
       "│ x3 │ nan nan nan nan │\n",
       "└────┴─────────────────┘"
      ]
     },
     "execution_count": 64,
     "metadata": {},
     "output_type": "execute_result"
    }
   ],
   "source": [
    "fitres"
   ]
  },
  {
   "cell_type": "code",
   "execution_count": null,
   "id": "fdd172c5",
   "metadata": {},
   "outputs": [],
   "source": []
  }
 ],
 "metadata": {
  "kernelspec": {
   "display_name": "Python 3",
   "language": "python",
   "name": "python3"
  },
  "language_info": {
   "codemirror_mode": {
    "name": "ipython",
    "version": 3
   },
   "file_extension": ".py",
   "mimetype": "text/x-python",
   "name": "python",
   "nbconvert_exporter": "python",
   "pygments_lexer": "ipython3",
   "version": "3.9.7"
  }
 },
 "nbformat": 4,
 "nbformat_minor": 5
}
