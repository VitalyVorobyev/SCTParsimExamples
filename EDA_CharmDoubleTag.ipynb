{
 "cells": [
  {
   "cell_type": "markdown",
   "id": "051844aa",
   "metadata": {},
   "source": [
    "# Exploratory data analysis for $\\psi(3770) \\to \\left[D^0\\to K^+K^-\\right] \\left[\\bar{D}{}^0\\to\\pi^+\\pi^-\\right]$"
   ]
  },
  {
   "cell_type": "code",
   "execution_count": 1,
   "id": "3d4927cf",
   "metadata": {},
   "outputs": [],
   "source": [
    "import numpy as np\n",
    "import pandas as pd\n",
    "import matplotlib.pyplot as plt\n",
    "import matplotlib\n",
    "from scipy.optimize import minimize\n",
    "import glob\n",
    "\n",
    "from pdflib import normal, double_normal\n",
    "from llhlib import loglh_maker\n",
    "from plotlib import poisson_hist, fit_plot, plot_scatter"
   ]
  },
  {
   "cell_type": "code",
   "execution_count": 3,
   "id": "55347804",
   "metadata": {},
   "outputs": [],
   "source": [
    "matplotlib.rcParams['font.size'] = 16"
   ]
  },
  {
   "cell_type": "code",
   "execution_count": null,
   "id": "a6428e64",
   "metadata": {},
   "outputs": [],
   "source": []
  }
 ],
 "metadata": {
  "kernelspec": {
   "display_name": "Python 3",
   "language": "python",
   "name": "python3"
  },
  "language_info": {
   "codemirror_mode": {
    "name": "ipython",
    "version": 3
   },
   "file_extension": ".py",
   "mimetype": "text/x-python",
   "name": "python",
   "nbconvert_exporter": "python",
   "pygments_lexer": "ipython3",
   "version": "3.9.4"
  }
 },
 "nbformat": 4,
 "nbformat_minor": 5
}
