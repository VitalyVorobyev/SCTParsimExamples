{
 "cells": [
  {
   "cell_type": "code",
   "execution_count": 1,
   "id": "05789750",
   "metadata": {},
   "outputs": [],
   "source": [
    "import numpy as np\n",
    "import matplotlib.pyplot as plt\n",
    "from sklearn.neural_network import MLPClassifier\n",
    "\n",
    "from clulib import parse_data"
   ]
  },
  {
   "cell_type": "code",
   "execution_count": 2,
   "id": "c0eaecab",
   "metadata": {},
   "outputs": [
    {
     "name": "stderr",
     "output_type": "stream",
     "text": [
      "D:\\Ctau\\Software\\SCTParsimExamples\\clulib.py:67: VisibleDeprecationWarning: Creating an ndarray from ragged nested sequences (which is a list-or-tuple of lists-or-tuples-or ndarrays with different lengths or shapes) is deprecated. If you meant to do this, you must specify 'dtype=object' when creating the ndarray.\n",
      "  return np.array(oneclu), np.array(twoclu), eventcnt\n"
     ]
    },
    {
     "name": "stdout",
     "output_type": "stream",
     "text": [
      "(74627, 2) (96212, 2)\n"
     ]
    }
   ],
   "source": [
    "energy = 2000\n",
    "pidata, _, _ = parse_data('pi0', energy, 'Data5x5')\n",
    "gadata, _, _ = parse_data('gamma', energy, 'Data5x5')\n",
    "print(pidata.shape, gadata.shape)"
   ]
  },
  {
   "cell_type": "code",
   "execution_count": null,
   "id": "027ed0c7",
   "metadata": {},
   "outputs": [],
   "source": [
    "from sklearn.model_selection import train_test_split"
   ]
  },
  {
   "cell_type": "code",
   "execution_count": null,
   "id": "6bb6c0fa",
   "metadata": {},
   "outputs": [],
   "source": [
    "def preprocess_data(data):\n",
    "    X = data[:, :, 0]\n",
    "    sums = X.sum(axis=1)\n",
    "    return X / sums.reshape(-1, 1), sums\n",
    "#     return X, sums"
   ]
  },
  {
   "cell_type": "code",
   "execution_count": null,
   "id": "06aa6230",
   "metadata": {},
   "outputs": [],
   "source": [
    "def make_data(pidata, gadata):\n",
    "    pidata0, epi = preprocess_data(pidata)\n",
    "    gadata0, ega = preprocess_data(gadata)\n",
    "    print(pidata0.shape)\n",
    "    print(gadata0.shape)\n",
    "    X = np.vstack((pidata0, gadata0))\n",
    "    y = np.concatenate((\n",
    "        np.zeros(pidata0.shape[0], dtype=int),\n",
    "        np.ones(gadata0.shape[0], dtype=int)\n",
    "    ))\n",
    "    return train_test_split(X, y, test_size=0.2, random_state=47)"
   ]
  },
  {
   "cell_type": "code",
   "execution_count": null,
   "id": "df6c8307",
   "metadata": {},
   "outputs": [],
   "source": [
    "X_train, X_test, y_train, y_test = make_data(pidata, gadata)\n",
    "X_train.shape"
   ]
  },
  {
   "cell_type": "code",
   "execution_count": null,
   "id": "ed38720e",
   "metadata": {},
   "outputs": [],
   "source": [
    "clf = MLPClassifier(random_state=1, max_iter=300).fit(X_train, y_train)"
   ]
  },
  {
   "cell_type": "code",
   "execution_count": null,
   "id": "077e8155",
   "metadata": {},
   "outputs": [],
   "source": [
    "plt.plot(clf.loss_curve_)"
   ]
  },
  {
   "cell_type": "code",
   "execution_count": null,
   "id": "0c111abd",
   "metadata": {},
   "outputs": [],
   "source": [
    "clf.score(X_train, y_train)"
   ]
  },
  {
   "cell_type": "code",
   "execution_count": null,
   "id": "8804decf",
   "metadata": {},
   "outputs": [],
   "source": [
    "clf.score(X_test, y_test)"
   ]
  },
  {
   "cell_type": "code",
   "execution_count": null,
   "id": "624d501d",
   "metadata": {},
   "outputs": [],
   "source": [
    "prob = clf.predict_proba(X_test)\n",
    "prob[0]"
   ]
  },
  {
   "cell_type": "code",
   "execution_count": null,
   "id": "790de36b",
   "metadata": {},
   "outputs": [],
   "source": [
    "from sklearn.metrics import roc_auc_score"
   ]
  },
  {
   "cell_type": "code",
   "execution_count": null,
   "id": "a50e5362",
   "metadata": {},
   "outputs": [],
   "source": [
    "roc_auc_score(y_test, clf.predict_proba(X_test)[:, 1])"
   ]
  },
  {
   "cell_type": "code",
   "execution_count": null,
   "id": "49138a7f",
   "metadata": {},
   "outputs": [],
   "source": [
    "plt.hist(prob[y_test==1][:, 1], bins=100, histtype='step')\n",
    "plt.hist(prob[y_test==0][:, 1], bins=100, histtype='step');"
   ]
  },
  {
   "cell_type": "code",
   "execution_count": null,
   "id": "91e21425",
   "metadata": {},
   "outputs": [],
   "source": [
    "prob_train = clf.predict_proba(X_train)"
   ]
  },
  {
   "cell_type": "code",
   "execution_count": null,
   "id": "3806f3c4",
   "metadata": {},
   "outputs": [],
   "source": [
    "plt.hist(prob_train[y_train==1][:, 1], bins=100, histtype='step')\n",
    "plt.hist(prob_train[y_train==0][:, 1], bins=100, histtype='step');"
   ]
  },
  {
   "cell_type": "code",
   "execution_count": null,
   "id": "c1dc98ff",
   "metadata": {},
   "outputs": [],
   "source": [
    "clf2 = MLPClassifier(\n",
    "    random_state=1,\n",
    "    hidden_layer_sizes=(50, 25),\n",
    "    max_iter=300).fit(X_train, y_train)"
   ]
  },
  {
   "cell_type": "code",
   "execution_count": null,
   "id": "4f858cbd",
   "metadata": {},
   "outputs": [],
   "source": [
    "plt.plot(clf2.loss_curve_)"
   ]
  },
  {
   "cell_type": "code",
   "execution_count": null,
   "id": "ac25cf61",
   "metadata": {},
   "outputs": [],
   "source": [
    "roc_auc_score(y_test, clf2.predict_proba(X_test)[:, 1])"
   ]
  },
  {
   "cell_type": "code",
   "execution_count": null,
   "id": "978f201d",
   "metadata": {},
   "outputs": [],
   "source": [
    "prob2 = clf2.predict_proba(X_test)[:, 1]"
   ]
  },
  {
   "cell_type": "code",
   "execution_count": null,
   "id": "b14b08a1",
   "metadata": {},
   "outputs": [],
   "source": [
    "plt.hist(prob2[y_test==1], bins=100, histtype='step')\n",
    "plt.hist(prob2[y_test==0], bins=100, histtype='step');"
   ]
  },
  {
   "cell_type": "code",
   "execution_count": null,
   "id": "f6d4d659",
   "metadata": {},
   "outputs": [],
   "source": [
    "from sklearn.ensemble import GradientBoostingClassifier"
   ]
  },
  {
   "cell_type": "code",
   "execution_count": null,
   "id": "8049a1e8",
   "metadata": {},
   "outputs": [],
   "source": [
    "gbc = GradientBoostingClassifier(random_state=9).fit(X_train, y_train)"
   ]
  },
  {
   "cell_type": "code",
   "execution_count": null,
   "id": "c88c7115",
   "metadata": {},
   "outputs": [],
   "source": [
    "roc_auc_score(y_test, gbc.predict_proba(X_test)[:, 1])"
   ]
  },
  {
   "cell_type": "code",
   "execution_count": null,
   "id": "2ebf0d73",
   "metadata": {},
   "outputs": [],
   "source": [
    "gbc_prob = gbc.predict_proba(X_test)[:, 1]"
   ]
  },
  {
   "cell_type": "code",
   "execution_count": null,
   "id": "33155e1d",
   "metadata": {},
   "outputs": [],
   "source": [
    "plt.hist(gbc_prob[y_test==1], bins=100, histtype='step')\n",
    "plt.hist(gbc_prob[y_test==0], bins=100, histtype='step');"
   ]
  },
  {
   "cell_type": "code",
   "execution_count": null,
   "id": "b56467c8",
   "metadata": {},
   "outputs": [],
   "source": [
    "from sklearn.model_selection import learning_curve"
   ]
  },
  {
   "cell_type": "code",
   "execution_count": null,
   "id": "ec1e5640",
   "metadata": {},
   "outputs": [],
   "source": [
    "fitres = learning_curve(GradientBoostingClassifier(random_state=9), X_train, y_train)"
   ]
  },
  {
   "cell_type": "code",
   "execution_count": null,
   "id": "33116396",
   "metadata": {},
   "outputs": [],
   "source": []
  }
 ],
 "metadata": {
  "kernelspec": {
   "display_name": "Python 3 (ipykernel)",
   "language": "python",
   "name": "python3"
  },
  "language_info": {
   "codemirror_mode": {
    "name": "ipython",
    "version": 3
   },
   "file_extension": ".py",
   "mimetype": "text/x-python",
   "name": "python",
   "nbconvert_exporter": "python",
   "pygments_lexer": "ipython3",
   "version": "3.9.5"
  }
 },
 "nbformat": 4,
 "nbformat_minor": 5
}
