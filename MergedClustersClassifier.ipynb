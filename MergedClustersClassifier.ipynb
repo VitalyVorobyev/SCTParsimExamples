{
 "cells": [
  {
   "cell_type": "code",
   "execution_count": 1,
   "id": "5d9d793f",
   "metadata": {},
   "outputs": [],
   "source": [
    "import numpy as np\n",
    "import matplotlib.pyplot as plt\n",
    "from sklearn.neural_network import MLPClassifier\n",
    "\n",
    "from clulib import parse_data"
   ]
  },
  {
   "cell_type": "code",
   "execution_count": 43,
   "id": "5d691285",
   "metadata": {},
   "outputs": [
    {
     "name": "stdout",
     "output_type": "stream",
     "text": [
      "(75476, 25, 3) (96471, 25, 3)\n"
     ]
    }
   ],
   "source": [
    "energy = 2000\n",
    "pidata, _, _ = parse_data('pi0', energy)\n",
    "gadata, _, _ = parse_data('gamma', energy)\n",
    "print(pidata.shape, gadata.shape)"
   ]
  },
  {
   "cell_type": "code",
   "execution_count": 4,
   "id": "43e9a374",
   "metadata": {},
   "outputs": [],
   "source": [
    "from sklearn.model_selection import train_test_split"
   ]
  },
  {
   "cell_type": "code",
   "execution_count": 75,
   "id": "511feba8",
   "metadata": {},
   "outputs": [
    {
     "data": {
      "text/plain": [
       "array([1., 1., 1., ..., 1., 1., 1.])"
      ]
     },
     "execution_count": 75,
     "metadata": {},
     "output_type": "execute_result"
    }
   ],
   "source": [
    "X = pidata[:, :, 0]\n",
    "(X / X.sum(axis=1).reshape(-1, 1)).sum(axis=1)"
   ]
  },
  {
   "cell_type": "code",
   "execution_count": 97,
   "id": "3f2358a7",
   "metadata": {},
   "outputs": [],
   "source": [
    "def preprocess_data(data):\n",
    "    X = data[:, :, 0]\n",
    "    sums = X.sum(axis=1)\n",
    "    return X / sums.reshape(-1, 1), sums\n",
    "#     return X, sums"
   ]
  },
  {
   "cell_type": "code",
   "execution_count": 98,
   "id": "2705c518",
   "metadata": {},
   "outputs": [],
   "source": [
    "def make_data(pidata, gadata):\n",
    "    pidata0, epi = preprocess_data(pidata)\n",
    "    gadata0, ega = preprocess_data(gadata)\n",
    "    print(pidata0.shape)\n",
    "    print(gadata0.shape)\n",
    "    X = np.vstack((pidata0, gadata0))\n",
    "    y = np.concatenate((\n",
    "        np.zeros(pidata0.shape[0], dtype=int),\n",
    "        np.ones(gadata0.shape[0], dtype=int)\n",
    "    ))\n",
    "    return train_test_split(X, y, test_size=0.2, random_state=47)"
   ]
  },
  {
   "cell_type": "code",
   "execution_count": 99,
   "id": "949ff948",
   "metadata": {},
   "outputs": [
    {
     "name": "stdout",
     "output_type": "stream",
     "text": [
      "(75476, 25)\n",
      "(96471, 25)\n"
     ]
    },
    {
     "data": {
      "text/plain": [
       "(137557, 25)"
      ]
     },
     "execution_count": 99,
     "metadata": {},
     "output_type": "execute_result"
    }
   ],
   "source": [
    "X_train, X_test, y_train, y_test = make_data(pidata, gadata)\n",
    "X_train.shape"
   ]
  },
  {
   "cell_type": "code",
   "execution_count": 105,
   "id": "a40c996a",
   "metadata": {},
   "outputs": [
    {
     "name": "stderr",
     "output_type": "stream",
     "text": [
      "/home/vitaly/miniconda3/envs/nsu/lib/python3.9/site-packages/sklearn/neural_network/_multilayer_perceptron.py:692: ConvergenceWarning: Stochastic Optimizer: Maximum iterations (100) reached and the optimization hasn't converged yet.\n",
      "  warnings.warn(\n"
     ]
    }
   ],
   "source": [
    "clf = MLPClassifier(random_state=1, max_iter=100).fit(X_train, y_train)"
   ]
  },
  {
   "cell_type": "code",
   "execution_count": 106,
   "id": "9a32753b",
   "metadata": {},
   "outputs": [
    {
     "data": {
      "text/plain": [
       "[<matplotlib.lines.Line2D at 0x7f6c7aac10d0>]"
      ]
     },
     "execution_count": 106,
     "metadata": {},
     "output_type": "execute_result"
    },
    {
     "data": {
      "image/png": "[encoded data removed]",
      "text/plain": [
       "<Figure size 432x288 with 1 Axes>"
      ]
     },
     "metadata": {
      "needs_background": "light"
     },
     "output_type": "display_data"
    }
   ],
   "source": [
    "plt.plot(clf.loss_curve_)"
   ]
  },
  {
   "cell_type": "code",
   "execution_count": 107,
   "id": "e83f0cae",
   "metadata": {},
   "outputs": [
    {
     "data": {
      "text/plain": [
       "0.753374964560146"
      ]
     },
     "execution_count": 107,
     "metadata": {},
     "output_type": "execute_result"
    }
   ],
   "source": [
    "clf.score(X_train, y_train)"
   ]
  },
  {
   "cell_type": "code",
   "execution_count": 108,
   "id": "dc2811ea",
   "metadata": {},
   "outputs": [
    {
     "data": {
      "text/plain": [
       "0.7531549869148008"
      ]
     },
     "execution_count": 108,
     "metadata": {},
     "output_type": "execute_result"
    }
   ],
   "source": [
    "clf.score(X_test, y_test)"
   ]
  },
  {
   "cell_type": "code",
   "execution_count": 109,
   "id": "02b70d08",
   "metadata": {},
   "outputs": [
    {
     "data": {
      "text/plain": [
       "array([0.22280783, 0.77719217])"
      ]
     },
     "execution_count": 109,
     "metadata": {},
     "output_type": "execute_result"
    }
   ],
   "source": [
    "prob = clf.predict_proba(X_test)\n",
    "prob[0]"
   ]
  },
  {
   "cell_type": "code",
   "execution_count": 113,
   "id": "f34def3a",
   "metadata": {},
   "outputs": [
    {
     "data": {
      "image/png": "[encoded data removed]",
      "text/plain": [
       "<Figure size 432x288 with 1 Axes>"
      ]
     },
     "metadata": {
      "needs_background": "light"
     },
     "output_type": "display_data"
    }
   ],
   "source": [
    "plt.hist(prob[y_test==1][:, 0], bins=100, histtype='step')\n",
    "plt.hist(prob[y_test==0][:, 0], bins=100, histtype='step');"
   ]
  },
  {
   "cell_type": "code",
   "execution_count": 84,
   "id": "39c1055d",
   "metadata": {},
   "outputs": [],
   "source": [
    "xpi, xga = X_train[y_train == 0], X_train[y_train != 0]"
   ]
  },
  {
   "cell_type": "code",
   "execution_count": 88,
   "id": "ad2ea5ed",
   "metadata": {},
   "outputs": [],
   "source": [
    "xpit, xgat = X_test[y_test == 0], X_test[y_test != 0]"
   ]
  }
 ],
 "metadata": {
  "kernelspec": {
   "display_name": "Python 3",
   "language": "python",
   "name": "python3"
  },
  "language_info": {
   "codemirror_mode": {
    "name": "ipython",
    "version": 3
   },
   "file_extension": ".py",
   "mimetype": "text/x-python",
   "name": "python",
   "nbconvert_exporter": "python",
   "pygments_lexer": "ipython3",
   "version": "3.9.7"
  }
 },
 "nbformat": 4,
 "nbformat_minor": 5
}
