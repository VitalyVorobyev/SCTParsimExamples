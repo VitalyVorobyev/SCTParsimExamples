{
 "cells": [
  {
   "cell_type": "code",
   "execution_count": 1,
   "id": "05789750",
   "metadata": {},
   "outputs": [],
   "source": [
    "import numpy as np\n",
    "import matplotlib.pyplot as plt\n",
    "from sklearn.neural_network import MLPClassifier\n",
    "from sklearn.metrics import roc_auc_score, RocCurveDisplay\n",
    "\n",
    "from clulib import parse_data, data_path"
   ]
  },
  {
   "cell_type": "code",
   "execution_count": 2,
   "id": "c0eaecab",
   "metadata": {},
   "outputs": [
    {
     "name": "stdout",
     "output_type": "stream",
     "text": [
      "(74627, 28) (96124, 28)\n"
     ]
    }
   ],
   "source": [
    "energy = 2000\n",
    "pidata, _, _ = parse_data('pi0', energy, data_path())\n",
    "gadata, _, _ = parse_data('gamma', energy, data_path())\n",
    "print(pidata.shape, gadata.shape)"
   ]
  },
  {
   "cell_type": "code",
   "execution_count": 3,
   "id": "027ed0c7",
   "metadata": {},
   "outputs": [],
   "source": [
    "from sklearn.model_selection import train_test_split"
   ]
  },
  {
   "cell_type": "markdown",
   "id": "076132a8",
   "metadata": {},
   "source": [
    "## Preprocess data\n",
    "\n",
    "### Data format\n",
    "\n",
    "Each cluster is represented by 28 numbers:\n",
    " * Flattened 5x5 energy depositions in crystals around the cluster center. The cluster center is defined as clusted with maximal energy deposition\n",
    " * Sum of energy deposition beyond the inner 5x5 area\n",
    " * z and phi index of the center cluster (not used!)\n",
    " \n",
    "### Data preprocessing\n",
    " * Last two values are dropped\n",
    " * Other values are normalized so that sum of values equal unity"
   ]
  },
  {
   "cell_type": "code",
   "execution_count": 4,
   "id": "6bb6c0fa",
   "metadata": {},
   "outputs": [],
   "source": [
    "def preprocess_data(data):\n",
    "    X = data[:, :-2]\n",
    "    sums = X.sum(axis=1)\n",
    "    return X / sums.reshape(-1, 1), sums"
   ]
  },
  {
   "cell_type": "code",
   "execution_count": 5,
   "id": "06aa6230",
   "metadata": {},
   "outputs": [],
   "source": [
    "def make_data(pidata, gadata):\n",
    "    pidata0, epi = preprocess_data(pidata)\n",
    "    gadata0, ega = preprocess_data(gadata)\n",
    "    print(pidata0.shape)\n",
    "    print(gadata0.shape)\n",
    "    X = np.vstack((pidata0, gadata0))\n",
    "    y = np.concatenate((\n",
    "        np.zeros(pidata0.shape[0], dtype=int),\n",
    "        np.ones(gadata0.shape[0], dtype=int)\n",
    "    ))\n",
    "    return train_test_split(X, y, test_size=0.2, random_state=47)"
   ]
  },
  {
   "cell_type": "code",
   "execution_count": 6,
   "id": "df6c8307",
   "metadata": {},
   "outputs": [
    {
     "name": "stdout",
     "output_type": "stream",
     "text": [
      "(74627, 26)\n",
      "(96124, 26)\n"
     ]
    },
    {
     "data": {
      "text/plain": [
       "(136600, 26)"
      ]
     },
     "execution_count": 6,
     "metadata": {},
     "output_type": "execute_result"
    }
   ],
   "source": [
    "X_train, X_test, y_train, y_test = make_data(pidata, gadata)\n",
    "X_train.shape"
   ]
  },
  {
   "cell_type": "markdown",
   "id": "d16c018d",
   "metadata": {},
   "source": [
    "# Baseline: linear regressor\n",
    "\n",
    "Train linear regressor"
   ]
  },
  {
   "cell_type": "code",
   "execution_count": 7,
   "id": "97455c5b",
   "metadata": {},
   "outputs": [],
   "source": [
    "from sklearn.linear_model import LinearRegression"
   ]
  },
  {
   "cell_type": "code",
   "execution_count": 8,
   "id": "22721b3c",
   "metadata": {},
   "outputs": [
    {
     "data": {
      "text/plain": [
       "0.7304143964334253"
      ]
     },
     "execution_count": 8,
     "metadata": {},
     "output_type": "execute_result"
    }
   ],
   "source": [
    "reg = LinearRegression().fit(X_train, y_train)\n",
    "reg.score(X_test, y_test)"
   ]
  },
  {
   "cell_type": "code",
   "execution_count": 9,
   "id": "bdb59f35",
   "metadata": {},
   "outputs": [],
   "source": [
    "linear_predict = reg.predict(X_test)"
   ]
  },
  {
   "cell_type": "code",
   "execution_count": 10,
   "id": "da17c4e8",
   "metadata": {},
   "outputs": [
    {
     "data": {
      "text/plain": [
       "0.9787332389456617"
      ]
     },
     "execution_count": 10,
     "metadata": {},
     "output_type": "execute_result"
    }
   ],
   "source": [
    "roc_auc_score(y_test, linear_predict)"
   ]
  },
  {
   "cell_type": "code",
   "execution_count": 11,
   "id": "eed4fab0",
   "metadata": {},
   "outputs": [
    {
     "data": {
      "image/png": "[encoded data removed]",
      "text/plain": [
       "<Figure size 432x288 with 1 Axes>"
      ]
     },
     "metadata": {
      "needs_background": "light"
     },
     "output_type": "display_data"
    }
   ],
   "source": [
    "plt.hist(linear_predict[y_test==1], bins=100, histtype='step')\n",
    "plt.hist(linear_predict[y_test==0], bins=100, histtype='step');"
   ]
  },
  {
   "cell_type": "code",
   "execution_count": 12,
   "id": "d5eaf989",
   "metadata": {},
   "outputs": [
    {
     "data": {
      "image/png": "[encoded data removed]",
      "text/plain": [
       "<Figure size 432x288 with 1 Axes>"
      ]
     },
     "metadata": {
      "needs_background": "light"
     },
     "output_type": "display_data"
    }
   ],
   "source": [
    "RocCurveDisplay.from_predictions(y_test, linear_predict);"
   ]
  },
  {
   "cell_type": "markdown",
   "id": "48e23ba3",
   "metadata": {},
   "source": [
    "## 1st classifier: neural net\n",
    "\n",
    "Train neural net classifier with one hidden layer of `100` neurons with 300 epochs"
   ]
  },
  {
   "cell_type": "code",
   "execution_count": 13,
   "id": "ed38720e",
   "metadata": {},
   "outputs": [],
   "source": [
    "clf = MLPClassifier(random_state=1, max_iter=300).fit(X_train, y_train)"
   ]
  },
  {
   "cell_type": "code",
   "execution_count": 14,
   "id": "077e8155",
   "metadata": {},
   "outputs": [
    {
     "data": {
      "text/plain": [
       "[<matplotlib.lines.Line2D at 0x7f98865009d0>]"
      ]
     },
     "execution_count": 14,
     "metadata": {},
     "output_type": "execute_result"
    },
    {
     "data": {
      "image/png": "[encoded data removed]",
      "text/plain": [
       "<Figure size 432x288 with 1 Axes>"
      ]
     },
     "metadata": {
      "needs_background": "light"
     },
     "output_type": "display_data"
    }
   ],
   "source": [
    "plt.plot(clf.loss_curve_)"
   ]
  },
  {
   "cell_type": "code",
   "execution_count": 15,
   "id": "0c111abd",
   "metadata": {},
   "outputs": [
    {
     "data": {
      "text/plain": [
       "0.9800219619326501"
      ]
     },
     "execution_count": 15,
     "metadata": {},
     "output_type": "execute_result"
    }
   ],
   "source": [
    "clf.score(X_train, y_train)"
   ]
  },
  {
   "cell_type": "code",
   "execution_count": 16,
   "id": "8804decf",
   "metadata": {},
   "outputs": [
    {
     "data": {
      "text/plain": [
       "0.9806155017422623"
      ]
     },
     "execution_count": 16,
     "metadata": {},
     "output_type": "execute_result"
    }
   ],
   "source": [
    "clf.score(X_test, y_test)"
   ]
  },
  {
   "cell_type": "code",
   "execution_count": 17,
   "id": "624d501d",
   "metadata": {},
   "outputs": [
    {
     "data": {
      "text/plain": [
       "array([9.99988829e-01, 1.11705030e-05])"
      ]
     },
     "execution_count": 17,
     "metadata": {},
     "output_type": "execute_result"
    }
   ],
   "source": [
    "prob = clf.predict_proba(X_test)\n",
    "prob[0]"
   ]
  },
  {
   "cell_type": "code",
   "execution_count": 18,
   "id": "a50e5362",
   "metadata": {},
   "outputs": [
    {
     "data": {
      "text/plain": [
       "0.9798908082145276"
      ]
     },
     "execution_count": 18,
     "metadata": {},
     "output_type": "execute_result"
    }
   ],
   "source": [
    "roc_auc_score(y_test, clf.predict_proba(X_test)[:, 1])"
   ]
  },
  {
   "cell_type": "code",
   "execution_count": 19,
   "id": "49138a7f",
   "metadata": {},
   "outputs": [
    {
     "data": {
      "image/png": "[encoded data removed]",
      "text/plain": [
       "<Figure size 432x288 with 1 Axes>"
      ]
     },
     "metadata": {
      "needs_background": "light"
     },
     "output_type": "display_data"
    }
   ],
   "source": [
    "plt.hist(prob[y_test==1][:, 1], bins=100, histtype='step')\n",
    "plt.hist(prob[y_test==0][:, 1], bins=100, histtype='step');"
   ]
  },
  {
   "cell_type": "code",
   "execution_count": 20,
   "id": "91e21425",
   "metadata": {},
   "outputs": [],
   "source": [
    "prob_train = clf.predict_proba(X_train)"
   ]
  },
  {
   "cell_type": "code",
   "execution_count": 21,
   "id": "3806f3c4",
   "metadata": {},
   "outputs": [
    {
     "data": {
      "image/png": "[encoded data removed]",
      "text/plain": [
       "<Figure size 432x288 with 1 Axes>"
      ]
     },
     "metadata": {
      "needs_background": "light"
     },
     "output_type": "display_data"
    }
   ],
   "source": [
    "plt.hist(prob_train[y_train==1][:, 1], bins=100, histtype='step')\n",
    "plt.hist(prob_train[y_train==0][:, 1], bins=100, histtype='step');"
   ]
  },
  {
   "cell_type": "code",
   "execution_count": 22,
   "id": "c1dc98ff",
   "metadata": {},
   "outputs": [],
   "source": [
    "clf2 = MLPClassifier(\n",
    "    random_state=1,\n",
    "    hidden_layer_sizes=(50, 25),\n",
    "    max_iter=300).fit(X_train, y_train)"
   ]
  },
  {
   "cell_type": "code",
   "execution_count": 23,
   "id": "4f858cbd",
   "metadata": {},
   "outputs": [
    {
     "data": {
      "text/plain": [
       "[<matplotlib.lines.Line2D at 0x7f9885dbd0d0>]"
      ]
     },
     "execution_count": 23,
     "metadata": {},
     "output_type": "execute_result"
    },
    {
     "data": {
      "image/png": "[encoded data removed]",
      "text/plain": [
       "<Figure size 432x288 with 1 Axes>"
      ]
     },
     "metadata": {
      "needs_background": "light"
     },
     "output_type": "display_data"
    }
   ],
   "source": [
    "plt.plot(clf2.loss_curve_)"
   ]
  },
  {
   "cell_type": "code",
   "execution_count": 24,
   "id": "ac25cf61",
   "metadata": {},
   "outputs": [
    {
     "data": {
      "text/plain": [
       "0.9809999389718659"
      ]
     },
     "execution_count": 24,
     "metadata": {},
     "output_type": "execute_result"
    }
   ],
   "source": [
    "roc_auc_score(y_test, clf2.predict_proba(X_test)[:, 1])"
   ]
  },
  {
   "cell_type": "code",
   "execution_count": 25,
   "id": "978f201d",
   "metadata": {},
   "outputs": [],
   "source": [
    "prob2 = clf2.predict_proba(X_test)[:, 1]"
   ]
  },
  {
   "cell_type": "code",
   "execution_count": 26,
   "id": "b14b08a1",
   "metadata": {},
   "outputs": [
    {
     "data": {
      "image/png": "[encoded data removed]",
      "text/plain": [
       "<Figure size 432x288 with 1 Axes>"
      ]
     },
     "metadata": {
      "needs_background": "light"
     },
     "output_type": "display_data"
    }
   ],
   "source": [
    "plt.hist(prob2[y_test==1], bins=100, histtype='step')\n",
    "plt.hist(prob2[y_test==0], bins=100, histtype='step');"
   ]
  },
  {
   "cell_type": "markdown",
   "id": "1da055ab",
   "metadata": {},
   "source": [
    "# 2nd classifier: Gradient Boosting"
   ]
  },
  {
   "cell_type": "code",
   "execution_count": 27,
   "id": "f6d4d659",
   "metadata": {},
   "outputs": [],
   "source": [
    "from sklearn.ensemble import GradientBoostingClassifier"
   ]
  },
  {
   "cell_type": "code",
   "execution_count": 28,
   "id": "8049a1e8",
   "metadata": {},
   "outputs": [],
   "source": [
    "gbc = GradientBoostingClassifier(random_state=9).fit(X_train, y_train)"
   ]
  },
  {
   "cell_type": "code",
   "execution_count": 29,
   "id": "c88c7115",
   "metadata": {},
   "outputs": [
    {
     "data": {
      "text/plain": [
       "0.9805712924675093"
      ]
     },
     "execution_count": 29,
     "metadata": {},
     "output_type": "execute_result"
    }
   ],
   "source": [
    "roc_auc_score(y_test, gbc.predict_proba(X_test)[:, 1])"
   ]
  },
  {
   "cell_type": "code",
   "execution_count": 30,
   "id": "2ebf0d73",
   "metadata": {},
   "outputs": [],
   "source": [
    "gbc_prob = gbc.predict_proba(X_test)[:, 1]"
   ]
  },
  {
   "cell_type": "code",
   "execution_count": 31,
   "id": "33155e1d",
   "metadata": {},
   "outputs": [
    {
     "data": {
      "image/png": "[encoded data removed]",
      "text/plain": [
       "<Figure size 432x288 with 1 Axes>"
      ]
     },
     "metadata": {
      "needs_background": "light"
     },
     "output_type": "display_data"
    }
   ],
   "source": [
    "plt.hist(gbc_prob[y_test==1], bins=100, histtype='step')\n",
    "plt.hist(gbc_prob[y_test==0], bins=100, histtype='step');"
   ]
  },
  {
   "cell_type": "code",
   "execution_count": 32,
   "id": "d5d530ff",
   "metadata": {},
   "outputs": [
    {
     "data": {
      "text/plain": [
       "<sklearn.metrics._plot.roc_curve.RocCurveDisplay at 0x7f987fafb880>"
      ]
     },
     "execution_count": 32,
     "metadata": {},
     "output_type": "execute_result"
    },
    {
     "data": {
      "image/png": "[encoded data removed]",
      "text/plain": [
       "<Figure size 432x288 with 1 Axes>"
      ]
     },
     "metadata": {
      "needs_background": "light"
     },
     "output_type": "display_data"
    }
   ],
   "source": [
    "RocCurveDisplay.from_predictions(y_test, gbc_prob)"
   ]
  },
  {
   "cell_type": "markdown",
   "id": "ca821370",
   "metadata": {},
   "source": [
    "# 3rd classifies: XGBoost"
   ]
  },
  {
   "cell_type": "code",
   "execution_count": 33,
   "id": "33116396",
   "metadata": {},
   "outputs": [],
   "source": [
    "import xgboost as xgb"
   ]
  },
  {
   "cell_type": "code",
   "execution_count": 34,
   "id": "5695d4ed",
   "metadata": {},
   "outputs": [],
   "source": [
    "param = {'max_depth':2, 'eta':1, 'objective':'binary:logistic'}\n",
    "dtrain = xgb.DMatrix(X_train, label=y_train)\n",
    "dtest = xgb.DMatrix(X_test, label=y_test)"
   ]
  },
  {
   "cell_type": "code",
   "execution_count": 35,
   "id": "0977b72e",
   "metadata": {},
   "outputs": [
    {
     "name": "stdout",
     "output_type": "stream",
     "text": [
      "[15:31:08] WARNING: ../src/learner.cc:1115: Starting in XGBoost 1.3.0, the default evaluation metric used with the objective 'binary:logistic' was changed from 'error' to 'logloss'. Explicitly set eval_metric if you'd like to restore the old behavior.\n"
     ]
    }
   ],
   "source": [
    "num_round = 20\n",
    "bst = xgb.train(param, dtrain, num_round)"
   ]
  },
  {
   "cell_type": "code",
   "execution_count": 36,
   "id": "11b811d3",
   "metadata": {},
   "outputs": [],
   "source": [
    "preds = bst.predict(dtest)"
   ]
  },
  {
   "cell_type": "code",
   "execution_count": 37,
   "id": "26bc26bf",
   "metadata": {},
   "outputs": [
    {
     "data": {
      "image/png": "[encoded data removed]",
      "text/plain": [
       "<Figure size 432x288 with 1 Axes>"
      ]
     },
     "metadata": {
      "needs_background": "light"
     },
     "output_type": "display_data"
    }
   ],
   "source": [
    "plt.hist(preds[y_test==1], bins=100, histtype='step')\n",
    "plt.hist(preds[y_test==0], bins=100, histtype='step');"
   ]
  },
  {
   "cell_type": "code",
   "execution_count": 38,
   "id": "75ed225e",
   "metadata": {},
   "outputs": [
    {
     "data": {
      "text/plain": [
       "0.980395675422514"
      ]
     },
     "execution_count": 38,
     "metadata": {},
     "output_type": "execute_result"
    }
   ],
   "source": [
    "roc_auc_score(y_test, preds)"
   ]
  },
  {
   "cell_type": "markdown",
   "id": "3f79d599",
   "metadata": {},
   "source": [
    "# Examples"
   ]
  },
  {
   "cell_type": "code",
   "execution_count": 44,
   "id": "526040b1",
   "metadata": {},
   "outputs": [
    {
     "data": {
      "text/plain": [
       "12"
      ]
     },
     "execution_count": 44,
     "metadata": {},
     "output_type": "execute_result"
    }
   ],
   "source": [
    "misses = np.nonzero((preds > 0.99) & (y_test==0))[0]\n",
    "misses.size"
   ]
  },
  {
   "cell_type": "code",
   "execution_count": 40,
   "id": "4e229bbc",
   "metadata": {},
   "outputs": [],
   "source": [
    "from clulib import draw_cluster_local"
   ]
  },
  {
   "cell_type": "code",
   "execution_count": 45,
   "id": "1eada558",
   "metadata": {},
   "outputs": [
    {
     "data": {
      "image/png": "[encoded data removed]",
      "text/plain": [
       "<Figure size 576x576 with 1 Axes>"
      ]
     },
     "metadata": {
      "needs_background": "light"
     },
     "output_type": "display_data"
    }
   ],
   "source": [
    "draw_cluster_local(X_test[misses[0]])"
   ]
  },
  {
   "cell_type": "code",
   "execution_count": 46,
   "id": "9c08a913",
   "metadata": {},
   "outputs": [
    {
     "data": {
      "text/plain": [
       "13034"
      ]
     },
     "execution_count": 46,
     "metadata": {},
     "output_type": "execute_result"
    }
   ],
   "source": [
    "confident_pi0 = np.nonzero((preds < 0.01) & (y_test==0))[0]\n",
    "confident_pi0.size"
   ]
  },
  {
   "cell_type": "code",
   "execution_count": 47,
   "id": "fb7e4c61",
   "metadata": {},
   "outputs": [
    {
     "data": {
      "image/png": "[encoded data removed]",
      "text/plain": [
       "<Figure size 576x576 with 1 Axes>"
      ]
     },
     "metadata": {
      "needs_background": "light"
     },
     "output_type": "display_data"
    }
   ],
   "source": [
    "draw_cluster_local(X_test[confident_pi0[0]])"
   ]
  },
  {
   "cell_type": "code",
   "execution_count": 48,
   "id": "1a688ae1",
   "metadata": {},
   "outputs": [
    {
     "data": {
      "text/plain": [
       "165"
      ]
     },
     "execution_count": 48,
     "metadata": {},
     "output_type": "execute_result"
    }
   ],
   "source": [
    "confident_gam = np.nonzero((preds > 0.99) & (y_test==1))[0]\n",
    "confident_gam.size"
   ]
  },
  {
   "cell_type": "code",
   "execution_count": 49,
   "id": "80c46a1e",
   "metadata": {},
   "outputs": [
    {
     "data": {
      "image/png": "[encoded data removed]",
      "text/plain": [
       "<Figure size 576x576 with 1 Axes>"
      ]
     },
     "metadata": {
      "needs_background": "light"
     },
     "output_type": "display_data"
    }
   ],
   "source": [
    "draw_cluster_local(X_test[confident_gam[0]])"
   ]
  },
  {
   "cell_type": "code",
   "execution_count": null,
   "id": "ade58217",
   "metadata": {},
   "outputs": [],
   "source": []
  }
 ],
 "metadata": {
  "kernelspec": {
   "display_name": "Python 3",
   "language": "python",
   "name": "python3"
  },
  "language_info": {
   "codemirror_mode": {
    "name": "ipython",
    "version": 3
   },
   "file_extension": ".py",
   "mimetype": "text/x-python",
   "name": "python",
   "nbconvert_exporter": "python",
   "pygments_lexer": "ipython3",
   "version": "3.9.7"
  }
 },
 "nbformat": 4,
 "nbformat_minor": 5
}
