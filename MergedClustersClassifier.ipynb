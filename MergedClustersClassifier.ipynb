{
 "cells": [
  {
   "cell_type": "code",
   "execution_count": 1,
   "id": "7095acc9",
   "metadata": {},
   "outputs": [],
   "source": [
    "import numpy as np\n",
    "import matplotlib.pyplot as plt\n",
    "from sklearn.neural_network import MLPClassifier\n",
    "\n",
    "from clulib import parse_data"
   ]
  },
  {
   "cell_type": "code",
   "execution_count": 43,
   "id": "6ca692dd",
   "metadata": {},
   "outputs": [
    {
     "name": "stdout",
     "output_type": "stream",
     "text": [
      "(75476, 25, 3) (96471, 25, 3)\n"
     ]
    }
   ],
   "source": [
    "energy = 2000\n",
    "pidata, _, _ = parse_data('pi0', energy)\n",
    "gadata, _, _ = parse_data('gamma', energy)\n",
    "print(pidata.shape, gadata.shape)"
   ]
  },
  {
   "cell_type": "code",
   "execution_count": 4,
   "id": "7320da7a",
   "metadata": {},
   "outputs": [],
   "source": [
    "from sklearn.model_selection import train_test_split"
   ]
  },
  {
   "cell_type": "code",
   "execution_count": 75,
   "id": "910ddcfa",
   "metadata": {},
   "outputs": [
    {
     "data": {
      "text/plain": [
       "array([1., 1., 1., ..., 1., 1., 1.])"
      ]
     },
     "execution_count": 75,
     "metadata": {},
     "output_type": "execute_result"
    }
   ],
   "source": [
    "X = pidata[:, :, 0]\n",
    "(X / X.sum(axis=1).reshape(-1, 1)).sum(axis=1)"
   ]
  },
  {
   "cell_type": "code",
   "execution_count": 97,
   "id": "14c5ab4e",
   "metadata": {},
   "outputs": [],
   "source": [
    "def preprocess_data(data):\n",
    "    X = data[:, :, 0]\n",
    "    sums = X.sum(axis=1)\n",
    "    return X / sums.reshape(-1, 1), sums\n",
    "#     return X, sums"
   ]
  },
  {
   "cell_type": "code",
   "execution_count": 98,
   "id": "638dc621",
   "metadata": {},
   "outputs": [],
   "source": [
    "def make_data(pidata, gadata):\n",
    "    pidata0, epi = preprocess_data(pidata)\n",
    "    gadata0, ega = preprocess_data(gadata)\n",
    "    print(pidata0.shape)\n",
    "    print(gadata0.shape)\n",
    "    X = np.vstack((pidata0, gadata0))\n",
    "    y = np.concatenate((\n",
    "        np.zeros(pidata0.shape[0], dtype=int),\n",
    "        np.ones(gadata0.shape[0], dtype=int)\n",
    "    ))\n",
    "    return train_test_split(X, y, test_size=0.2, random_state=47)"
   ]
  },
  {
   "cell_type": "code",
   "execution_count": 99,
   "id": "536441ea",
   "metadata": {},
   "outputs": [
    {
     "name": "stdout",
     "output_type": "stream",
     "text": [
      "(75476, 25)\n",
      "(96471, 25)\n"
     ]
    },
    {
     "data": {
      "text/plain": [
       "(137557, 25)"
      ]
     },
     "execution_count": 99,
     "metadata": {},
     "output_type": "execute_result"
    }
   ],
   "source": [
    "X_train, X_test, y_train, y_test = make_data(pidata, gadata)\n",
    "X_train.shape"
   ]
  },
  {
   "cell_type": "code",
   "execution_count": 114,
   "id": "35892222",
   "metadata": {},
   "outputs": [],
   "source": [
    "clf = MLPClassifier(random_state=1, max_iter=300).fit(X_train, y_train)"
   ]
  },
  {
   "cell_type": "code",
   "execution_count": 115,
   "id": "48d71d1f",
   "metadata": {},
   "outputs": [
    {
     "data": {
      "text/plain": [
       "[<matplotlib.lines.Line2D at 0x7f6c7a8c9eb0>]"
      ]
     },
     "execution_count": 115,
     "metadata": {},
     "output_type": "execute_result"
    },
    {
     "data": {
      "image/png": "[encoded data removed]",
      "text/plain": [
       "<Figure size 432x288 with 1 Axes>"
      ]
     },
     "metadata": {
      "needs_background": "light"
     },
     "output_type": "display_data"
    }
   ],
   "source": [
    "plt.plot(clf.loss_curve_)"
   ]
  },
  {
   "cell_type": "code",
   "execution_count": 116,
   "id": "4176d958",
   "metadata": {},
   "outputs": [
    {
     "data": {
      "text/plain": [
       "0.7634362482461816"
      ]
     },
     "execution_count": 116,
     "metadata": {},
     "output_type": "execute_result"
    }
   ],
   "source": [
    "clf.score(X_train, y_train)"
   ]
  },
  {
   "cell_type": "code",
   "execution_count": 117,
   "id": "16fe1508",
   "metadata": {},
   "outputs": [
    {
     "data": {
      "text/plain": [
       "0.7612096539691771"
      ]
     },
     "execution_count": 117,
     "metadata": {},
     "output_type": "execute_result"
    }
   ],
   "source": [
    "clf.score(X_test, y_test)"
   ]
  },
  {
   "cell_type": "code",
   "execution_count": 118,
   "id": "08a71580",
   "metadata": {},
   "outputs": [
    {
     "data": {
      "text/plain": [
       "array([0.23996774, 0.76003226])"
      ]
     },
     "execution_count": 118,
     "metadata": {},
     "output_type": "execute_result"
    }
   ],
   "source": [
    "prob = clf.predict_proba(X_test)\n",
    "prob[0]"
   ]
  },
  {
   "cell_type": "code",
   "execution_count": 123,
   "id": "fe412c35",
   "metadata": {},
   "outputs": [],
   "source": [
    "from sklearn.metrics import roc_auc_score"
   ]
  },
  {
   "cell_type": "code",
   "execution_count": 125,
   "id": "a57f6350",
   "metadata": {},
   "outputs": [
    {
     "data": {
      "text/plain": [
       "0.8212689310302317"
      ]
     },
     "execution_count": 125,
     "metadata": {},
     "output_type": "execute_result"
    }
   ],
   "source": [
    "roc_auc_score(y_test, clf.predict_proba(X_test)[:, 1])"
   ]
  },
  {
   "cell_type": "code",
   "execution_count": 134,
   "id": "bcbd9587",
   "metadata": {},
   "outputs": [
    {
     "data": {
      "image/png": "[encoded data removed]",
      "text/plain": [
       "<Figure size 432x288 with 1 Axes>"
      ]
     },
     "metadata": {
      "needs_background": "light"
     },
     "output_type": "display_data"
    }
   ],
   "source": [
    "plt.hist(prob[y_test==1][:, 1], bins=100, histtype='step')\n",
    "plt.hist(prob[y_test==0][:, 1], bins=100, histtype='step');"
   ]
  },
  {
   "cell_type": "code",
   "execution_count": 120,
   "id": "b9b610c0",
   "metadata": {},
   "outputs": [],
   "source": [
    "prob_train = clf.predict_proba(X_train)"
   ]
  },
  {
   "cell_type": "code",
   "execution_count": 133,
   "id": "8cdc381c",
   "metadata": {},
   "outputs": [
    {
     "data": {
      "image/png": "[encoded data removed]",
      "text/plain": [
       "<Figure size 432x288 with 1 Axes>"
      ]
     },
     "metadata": {
      "needs_background": "light"
     },
     "output_type": "display_data"
    }
   ],
   "source": [
    "plt.hist(prob_train[y_train==1][:, 1], bins=100, histtype='step')\n",
    "plt.hist(prob_train[y_train==0][:, 1], bins=100, histtype='step');"
   ]
  },
  {
   "cell_type": "code",
   "execution_count": 122,
   "id": "2dba9f48",
   "metadata": {},
   "outputs": [],
   "source": [
    "clf2 = MLPClassifier(\n",
    "    random_state=1,\n",
    "    hidden_layer_sizes=(50, 25),\n",
    "    max_iter=300).fit(X_train, y_train)"
   ]
  },
  {
   "cell_type": "code",
   "execution_count": 139,
   "id": "44a673eb",
   "metadata": {},
   "outputs": [
    {
     "data": {
      "text/plain": [
       "[<matplotlib.lines.Line2D at 0x7f6c75c76d90>]"
      ]
     },
     "execution_count": 139,
     "metadata": {},
     "output_type": "execute_result"
    },
    {
     "data": {
      "image/png": "[encoded data removed]",
      "text/plain": [
       "<Figure size 432x288 with 1 Axes>"
      ]
     },
     "metadata": {
      "needs_background": "light"
     },
     "output_type": "display_data"
    }
   ],
   "source": [
    "plt.plot(clf2.loss_curve_)"
   ]
  },
  {
   "cell_type": "code",
   "execution_count": 128,
   "id": "75cd54a0",
   "metadata": {},
   "outputs": [
    {
     "data": {
      "text/plain": [
       "0.8163016334274646"
      ]
     },
     "execution_count": 128,
     "metadata": {},
     "output_type": "execute_result"
    }
   ],
   "source": [
    "roc_auc_score(y_test, clf2.predict_proba(X_test)[:, 1])"
   ]
  },
  {
   "cell_type": "code",
   "execution_count": 130,
   "id": "0604f3ac",
   "metadata": {},
   "outputs": [],
   "source": [
    "prob2 = clf2.predict_proba(X_test)[:, 1]"
   ]
  },
  {
   "cell_type": "code",
   "execution_count": 132,
   "id": "f099bed9",
   "metadata": {},
   "outputs": [
    {
     "data": {
      "image/png": "[encoded data removed]",
      "text/plain": [
       "<Figure size 432x288 with 1 Axes>"
      ]
     },
     "metadata": {
      "needs_background": "light"
     },
     "output_type": "display_data"
    }
   ],
   "source": [
    "plt.hist(prob2[y_test==1], bins=100, histtype='step')\n",
    "plt.hist(prob2[y_test==0], bins=100, histtype='step');"
   ]
  },
  {
   "cell_type": "code",
   "execution_count": 124,
   "id": "fddbfda9",
   "metadata": {},
   "outputs": [],
   "source": [
    "from sklearn.ensemble import GradientBoostingClassifier"
   ]
  },
  {
   "cell_type": "code",
   "execution_count": 135,
   "id": "44b9a71f",
   "metadata": {},
   "outputs": [],
   "source": [
    "gbc = GradientBoostingClassifier(random_state=9).fit(X_train, y_train)"
   ]
  },
  {
   "cell_type": "code",
   "execution_count": 136,
   "id": "2eb62c6e",
   "metadata": {},
   "outputs": [
    {
     "data": {
      "text/plain": [
       "0.8515305039253078"
      ]
     },
     "execution_count": 136,
     "metadata": {},
     "output_type": "execute_result"
    }
   ],
   "source": [
    "roc_auc_score(y_test, gbc.predict_proba(X_test)[:, 1])"
   ]
  },
  {
   "cell_type": "code",
   "execution_count": 137,
   "id": "e9d59f88",
   "metadata": {},
   "outputs": [],
   "source": [
    "gbc_prob = gbc.predict_proba(X_test)[:, 1]"
   ]
  },
  {
   "cell_type": "code",
   "execution_count": 138,
   "id": "f91a6d13",
   "metadata": {},
   "outputs": [
    {
     "data": {
      "image/png": "[encoded data removed]",
      "text/plain": [
       "<Figure size 432x288 with 1 Axes>"
      ]
     },
     "metadata": {
      "needs_background": "light"
     },
     "output_type": "display_data"
    }
   ],
   "source": [
    "plt.hist(gbc_prob[y_test==1], bins=100, histtype='step')\n",
    "plt.hist(gbc_prob[y_test==0], bins=100, histtype='step');"
   ]
  },
  {
   "cell_type": "code",
   "execution_count": 141,
   "id": "185ee164",
   "metadata": {},
   "outputs": [],
   "source": [
    "from sklearn.model_selection import learning_curve"
   ]
  },
  {
   "cell_type": "code",
   "execution_count": 142,
   "id": "bdc7388f",
   "metadata": {},
   "outputs": [],
   "source": [
    "fitres = learning_curve(GradientBoostingClassifier(random_state=9), X_train, y_train)"
   ]
  },
  {
   "cell_type": "code",
   "execution_count": 150,
   "id": "2f8247ca",
   "metadata": {},
   "outputs": [
    {
     "data": {
      "text/plain": [
       "[<matplotlib.lines.Line2D at 0x7f6c759d9a60>,\n",
       " <matplotlib.lines.Line2D at 0x7f6c759d9ac0>,\n",
       " <matplotlib.lines.Line2D at 0x7f6c759d9be0>,\n",
       " <matplotlib.lines.Line2D at 0x7f6c759d9d00>,\n",
       " <matplotlib.lines.Line2D at 0x7f6c759d9e20>]"
      ]
     },
     "execution_count": 150,
     "metadata": {},
     "output_type": "execute_result"
    },
    {
     "data": {
      "image/png": "[encoded data removed]",
      "text/plain": [
       "<Figure size 432x288 with 1 Axes>"
      ]
     },
     "metadata": {
      "needs_background": "light"
     },
     "output_type": "display_data"
    }
   ],
   "source": [
    "plt.plot(fitres[0], fitres[1])"
   ]
  },
  {
   "cell_type": "code",
   "execution_count": null,
   "id": "6eb52ecd",
   "metadata": {},
   "outputs": [],
   "source": []
  }
 ],
 "metadata": {
  "kernelspec": {
   "display_name": "Python 3",
   "language": "python",
   "name": "python3"
  },
  "language_info": {
   "codemirror_mode": {
    "name": "ipython",
    "version": 3
   },
   "file_extension": ".py",
   "mimetype": "text/x-python",
   "name": "python",
   "nbconvert_exporter": "python",
   "pygments_lexer": "ipython3",
   "version": "3.9.7"
  }
 },
 "nbformat": 4,
 "nbformat_minor": 5
}
